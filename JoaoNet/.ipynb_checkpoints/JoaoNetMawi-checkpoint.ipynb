{
 "cells": [
  {
   "cell_type": "code",
   "execution_count": 1,
   "id": "437e1c9f",
   "metadata": {},
   "outputs": [
    {
     "ename": "NameError",
     "evalue": "name 'MawiNetWithExitsCIFAR10' is not defined",
     "output_type": "error",
     "traceback": [
      "\u001b[0;31m---------------------------------------------------------------------------\u001b[0m",
      "\u001b[0;31mNameError\u001b[0m                                 Traceback (most recent call last)",
      "Cell \u001b[0;32mIn[1], line 20\u001b[0m\n\u001b[1;32m     17\u001b[0m \u001b[38;5;28;01mimport\u001b[39;00m \u001b[38;5;21;01mnumpy\u001b[39;00m \u001b[38;5;28;01mas\u001b[39;00m \u001b[38;5;21;01mnp\u001b[39;00m\n\u001b[1;32m     18\u001b[0m \u001b[38;5;28;01mfrom\u001b[39;00m \u001b[38;5;21;01mdatetime\u001b[39;00m \u001b[38;5;28;01mimport\u001b[39;00m datetime \u001b[38;5;28;01mas\u001b[39;00m dt\n\u001b[0;32m---> 20\u001b[0m model \u001b[38;5;241m=\u001b[39m \u001b[43mMawiNetWithExitsCIFAR10\u001b[49m()\n\u001b[1;32m     22\u001b[0m \u001b[38;5;28mprint\u001b[39m(model\u001b[38;5;241m.\u001b[39mbackbone)\n\u001b[1;32m     23\u001b[0m \u001b[38;5;28mprint\u001b[39m(model\u001b[38;5;241m.\u001b[39mexits)\n",
      "\u001b[0;31mNameError\u001b[0m: name 'MawiNetWithExitsCIFAR10' is not defined"
     ]
    }
   ],
   "source": [
    "import sys\n",
    "sys.path.append('..')\n",
    "\n",
    "from models.MawiNet import *\n",
    "\n",
    "import torch\n",
    "import torch.nn as nn\n",
    "import torch.optim as optim\n",
    "from torch.utils.data import DataLoader, Dataset, TensorDataset\n",
    "import torchvision\n",
    "from torchvision.transforms import ToTensor\n",
    "from torchvision import datasets\n",
    "import matplotlib.pyplot as plt\n",
    "\n",
    "\n",
    "import os\n",
    "import numpy as np\n",
    "from datetime import datetime as dt\n",
    "\n",
    "model = MawiNetWithExitsCIFAR10()\n",
    "\n",
    "print(model.backbone)\n",
    "print(model.exits)"
   ]
  },
  {
   "cell_type": "code",
   "execution_count": null,
   "id": "5d13a355",
   "metadata": {},
   "outputs": [],
   "source": [
    "import pandas as pd\n",
    "import numpy as np\n",
    "\n",
    "from sklearn.model_selection import train_test_split\n",
    "\n",
    "from pathlib import Path\n",
    "\n",
    "files = Path('../../datasets/balanced/2019/VIEGAS/XX').iterdir()\n",
    "\n",
    "df = pd.DataFrame()\n",
    "\n",
    "for file in files:\n",
    "    temp = pd.read_csv(file)\n",
    "    df = pd.concat([df, temp])\n",
    "    \n",
    "df = df.drop(['MAWILAB_taxonomy', 'MAWILAB_distance', 'MAWILAB_nbDetectors', 'MAWILAB_label'], axis=1)\n",
    "\n",
    "X = df.drop('class', axis=1)\n",
    "y = df['class']\n",
    "\n",
    "X_train, X_test, y_train, y_test = train_test_split(X, y, test_size=0.3)"
   ]
  },
  {
   "cell_type": "code",
   "execution_count": null,
   "id": "e1817988",
   "metadata": {},
   "outputs": [],
   "source": [
    "data = []\n",
    "for val in X_train.values:\n",
    "    val = np.append(val, 0).reshape(7,7)\n",
    "    data.append(val)\n",
    "    \n",
    "X_train = torch.FloatTensor(data).view(len(data), 1, 7, 7)\n",
    "y_train = y_train.values\n",
    "\n",
    "data = []\n",
    "for val in X_test.values:\n",
    "    val = np.append(val, 0).reshape(7,7)\n",
    "    data.append(val)\n",
    "    \n",
    "X_test = torch.FloatTensor(data).view(len(data), 1, 7, 7)\n",
    "y_test = y_test.values\n",
    "\n",
    "train_data = []\n",
    "for i in range(len(X_train)):\n",
    "    train_data.append((X_train[i], y_train[i]))\n",
    "\n",
    "test_data = []\n",
    "for i in range(len(X_test)):\n",
    "    train_data.append((X_test[i], y_test[i]))"
   ]
  },
  {
   "cell_type": "code",
   "execution_count": null,
   "id": "0092923d",
   "metadata": {},
   "outputs": [],
   "source": [
    "for i, (X_train, y_train) in enumerate(train_data):\n",
    "    X_train = X_train\n",
    "    y_train = y_train\n",
    "    break \n",
    "\n",
    "x = X_train\n",
    "print(x.shape)  \n",
    "x = x.view(1,1,7,7)\n",
    "print(x.shape)\n",
    "x = model.backbone[0](x)\n",
    "print(x.shape)\n",
    "# x = model.exits[0](x)\n",
    "# print(x.shape)\n",
    "x = model.backbone[1](x)\n",
    "print(x.shape)\n",
    "# x = model.exits[1](x)\n",
    "# print(x.shape)\n",
    "\n",
    "x = model.backbone[2](x)\n",
    "print(x.shape)\n",
    "x = model.exits[2](x)\n",
    "print(x.shape)\n",
    "\n",
    "\n",
    "\n",
    "\n",
    "\n",
    "# x = nn.MaxPool2d(kernel_size=5, stride=2)(x)\n",
    "# print(x.shape)"
   ]
  }
 ],
 "metadata": {
  "kernelspec": {
   "display_name": "Python 3 (ipykernel)",
   "language": "python",
   "name": "python3"
  },
  "language_info": {
   "codemirror_mode": {
    "name": "ipython",
    "version": 3
   },
   "file_extension": ".py",
   "mimetype": "text/x-python",
   "name": "python",
   "nbconvert_exporter": "python",
   "pygments_lexer": "ipython3",
   "version": "3.10.9"
  }
 },
 "nbformat": 4,
 "nbformat_minor": 5
}
