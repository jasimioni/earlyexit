{
 "cells": [
  {
   "cell_type": "code",
   "execution_count": 11,
   "id": "ae2bfa79",
   "metadata": {},
   "outputs": [
    {
     "name": "stdout",
     "output_type": "stream",
     "text": [
      "Sequential(\n",
      "  (0): Sequential(\n",
      "    (0): Conv2d(3, 96, kernel_size=(3, 3), stride=(1, 1))\n",
      "    (1): BatchNorm2d(96, eps=1e-05, momentum=0.1, affine=True, track_running_stats=True)\n",
      "    (2): ReLU()\n",
      "    (3): MaxPool2d(kernel_size=3, stride=2, padding=0, dilation=1, ceil_mode=False)\n",
      "  )\n",
      "  (1): Sequential(\n",
      "    (0): Conv2d(96, 256, kernel_size=(3, 3), stride=(1, 1), padding=(2, 2))\n",
      "    (1): BatchNorm2d(256, eps=1e-05, momentum=0.1, affine=True, track_running_stats=True)\n",
      "    (2): ReLU()\n",
      "    (3): MaxPool2d(kernel_size=3, stride=2, padding=0, dilation=1, ceil_mode=False)\n",
      "  )\n",
      "  (2): Sequential(\n",
      "    (0): Conv2d(256, 384, kernel_size=(3, 3), stride=(1, 1), padding=(1, 1))\n",
      "    (1): BatchNorm2d(384, eps=1e-05, momentum=0.1, affine=True, track_running_stats=True)\n",
      "    (2): ReLU()\n",
      "    (3): Conv2d(384, 256, kernel_size=(3, 3), stride=(1, 1), padding=(1, 1))\n",
      "    (4): BatchNorm2d(256, eps=1e-05, momentum=0.1, affine=True, track_running_stats=True)\n",
      "    (5): ReLU()\n",
      "  )\n",
      ")\n",
      "Sequential(\n",
      "  (0): Sequential(\n",
      "    (0): MaxPool2d(kernel_size=5, stride=2, padding=0, dilation=1, ceil_mode=False)\n",
      "    (1): Flatten(start_dim=1, end_dim=-1)\n",
      "    (2): Linear(in_features=2400, out_features=10, bias=True)\n",
      "  )\n",
      "  (1): Sequential(\n",
      "    (0): MaxPool2d(kernel_size=5, stride=2, padding=0, dilation=1, ceil_mode=False)\n",
      "    (1): Flatten(start_dim=1, end_dim=-1)\n",
      "    (2): Linear(in_features=1536, out_features=10, bias=True)\n",
      "  )\n",
      "  (2): Sequential(\n",
      "    (0): MaxPool2d(kernel_size=5, stride=2, padding=0, dilation=1, ceil_mode=False)\n",
      "    (1): Flatten(start_dim=1, end_dim=-1)\n",
      "    (2): Linear(in_features=1024, out_features=10, bias=True)\n",
      "  )\n",
      ")\n"
     ]
    }
   ],
   "source": [
    "import sys\n",
    "sys.path.append('..')\n",
    "\n",
    "from models.JoaoNet import *\n",
    "\n",
    "import torch\n",
    "import torch.nn as nn\n",
    "import torch.optim as optim\n",
    "from torch.utils.data import DataLoader, Dataset, TensorDataset\n",
    "import torchvision\n",
    "from torchvision.transforms import ToTensor\n",
    "from torchvision import datasets\n",
    "import matplotlib.pyplot as plt\n",
    "\n",
    "\n",
    "import os\n",
    "import numpy as np\n",
    "from datetime import datetime as dt\n",
    "\n",
    "model = JoaoNetWithExitsCIFAR10()\n",
    "\n",
    "print(model.backbone)\n",
    "print(model.exits)"
   ]
  },
  {
   "cell_type": "code",
   "execution_count": null,
   "id": "4908fe11",
   "metadata": {},
   "outputs": [],
   "source": []
  },
  {
   "cell_type": "code",
   "execution_count": 31,
   "id": "58240f6a",
   "metadata": {},
   "outputs": [
    {
     "name": "stdout",
     "output_type": "stream",
     "text": [
      "Files already downloaded and verified\n",
      "Files already downloaded and verified\n"
     ]
    }
   ],
   "source": [
    "transform = ToTensor()\n",
    "\n",
    "batch_size = 10\n",
    "\n",
    "train_data   = datasets.CIFAR10(root='../data', train=True, download=True, transform=transform)\n",
    "test_data    = datasets.CIFAR10(root='../data', train=False, download=True, transform=transform)\n",
    "train_loader = DataLoader(train_data, batch_size=batch_size, shuffle=True)\n",
    "test_loader  = DataLoader(test_data, batch_size=batch_size, shuffle=False)"
   ]
  },
  {
   "cell_type": "code",
   "execution_count": 57,
   "id": "0092923d",
   "metadata": {},
   "outputs": [
    {
     "name": "stdout",
     "output_type": "stream",
     "text": [
      "torch.Size([3, 32, 32])\n",
      "torch.Size([1, 3, 32, 32])\n",
      "torch.Size([1, 96, 14, 14])\n",
      "torch.Size([1, 10])\n",
      "tensor([[ 2.3695, -1.4995,  0.4626,  1.8418,  0.3608, -0.3247,  4.1519,  1.8668,\n",
      "         -0.3093, -2.9795]], grad_fn=<AddmmBackward0>)\n",
      "tensor([[1.1650e-01, 2.4323e-03, 1.7305e-02, 6.8729e-02, 1.5629e-02, 7.8746e-03,\n",
      "         6.9250e-01, 7.0470e-02, 7.9971e-03, 5.5369e-04]],\n",
      "       grad_fn=<SoftmaxBackward0>)\n",
      "tensor([0.6925], grad_fn=<MaxBackward0>)\n"
     ]
    }
   ],
   "source": [
    "for i, (X_train, y_train) in enumerate(train_data):\n",
    "    X_train = X_train\n",
    "    y_train = y_train\n",
    "    break\n",
    "\n",
    "x = X_train\n",
    "print(x.shape)  \n",
    "x = x.view(1,3,32,32)\n",
    "print(x.shape)\n",
    "x = model.backbone[0](x)\n",
    "print(x.shape)\n",
    "\n",
    "# x = model.backbone[1](x)\n",
    "# print(x.shape)\n",
    "\n",
    "# x = model.backbone[2](x)\n",
    "# print(x.shape)\n",
    "\n",
    "x = model.exits[0](x)\n",
    "print(x.shape)\n",
    "\n",
    "print(x)\n",
    "\n",
    "x = nn.functional.softmax(x, dim=-1)\n",
    "\n",
    "print(x)\n",
    "\n",
    "x = torch.max(x, 1)\n",
    "\n",
    "print(x[0])\n",
    "\n",
    "# print(x[0].item())\n",
    "\n",
    "\n",
    "\n",
    "\n",
    "\n",
    "# x = nn.MaxPool2d(kernel_size=5, stride=2)(x)\n",
    "# print(x.shape)"
   ]
  },
  {
   "cell_type": "raw",
   "id": "930b3367",
   "metadata": {},
   "source": []
  },
  {
   "cell_type": "code",
   "execution_count": 51,
   "id": "3392550e",
   "metadata": {},
   "outputs": [
    {
     "name": "stdout",
     "output_type": "stream",
     "text": [
      "tensor([[10, 20, 30],\n",
      "        [40, 50, 60],\n",
      "        [70, 80, 90]])\n",
      "tensor([0, 1, 2])\n",
      "tensor([False,  True,  True])\n"
     ]
    }
   ],
   "source": [
    "a = torch.tensor([[10, 20, 30], [40, 50, 60], [70, 80, 90]])\n",
    "b = torch.tensor([0, 1, 2])\n",
    "c = [0, 1, 2]\n",
    "mask = b >= 1\n",
    "\n",
    "print(a)\n",
    "print(b)\n",
    "print(mask)\n",
    "\n"
   ]
  },
  {
   "cell_type": "code",
   "execution_count": null,
   "id": "81dec88d",
   "metadata": {},
   "outputs": [],
   "source": []
  }
 ],
 "metadata": {
  "kernelspec": {
   "display_name": "Python 3 (ipykernel)",
   "language": "python",
   "name": "python3"
  },
  "language_info": {
   "codemirror_mode": {
    "name": "ipython",
    "version": 3
   },
   "file_extension": ".py",
   "mimetype": "text/x-python",
   "name": "python",
   "nbconvert_exporter": "python",
   "pygments_lexer": "ipython3",
   "version": "3.10.9"
  }
 },
 "nbformat": 4,
 "nbformat_minor": 5
}
