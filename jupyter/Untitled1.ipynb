{
 "cells": [
  {
   "cell_type": "code",
   "execution_count": 5,
   "id": "e58bad6c-2c6e-4f69-b0df-1af2f3f08d34",
   "metadata": {},
   "outputs": [],
   "source": [
    "def teste():\n",
    "    print('teste2')"
   ]
  },
  {
   "cell_type": "code",
   "execution_count": 3,
   "id": "607f851e-e843-435a-9528-82ddc7592cf2",
   "metadata": {},
   "outputs": [],
   "source": [
    "def new_teste():\n",
    "    teste()"
   ]
  },
  {
   "cell_type": "code",
   "execution_count": 6,
   "id": "615baba2-e625-461a-84d3-29d18b9d7267",
   "metadata": {},
   "outputs": [
    {
     "name": "stdout",
     "output_type": "stream",
     "text": [
      "teste2\n"
     ]
    }
   ],
   "source": [
    "new_teste()"
   ]
  }
 ],
 "metadata": {
  "kernelspec": {
   "display_name": "Python 3 (ipykernel)",
   "language": "python",
   "name": "python3"
  },
  "language_info": {
   "codemirror_mode": {
    "name": "ipython",
    "version": 3
   },
   "file_extension": ".py",
   "mimetype": "text/x-python",
   "name": "python",
   "nbconvert_exporter": "python",
   "pygments_lexer": "ipython3",
   "version": "3.10.12"
  }
 },
 "nbformat": 4,
 "nbformat_minor": 5
}
