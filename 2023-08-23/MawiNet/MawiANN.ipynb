{
 "cells": [
  {
   "cell_type": "code",
   "execution_count": 1,
   "metadata": {},
   "outputs": [],
   "source": [
    "import torch\n",
    "import torch.nn as nn\n",
    "import torch.nn.functional as F          # adds some efficiency\n",
    "from torch.utils.data import DataLoader  # lets us load data in batches\n",
    "from torchvision import datasets, transforms\n",
    "\n",
    "import numpy as np\n",
    "import pandas as pd\n",
    "from sklearn.metrics import confusion_matrix  # for evaluating results\n",
    "import matplotlib.pyplot as plt\n",
    "%matplotlib inline\n",
    "\n",
    "import sys\n",
    "sys.path.append('..')\n",
    "\n",
    "from utils.functions import *"
   ]
  },
  {
   "cell_type": "code",
   "execution_count": 2,
   "metadata": {},
   "outputs": [
    {
     "name": "stdout",
     "output_type": "stream",
     "text": [
      "torch.Size([938330, 48])\n",
      "torch.Size([938330])\n",
      "torch.Size([938330, 48])\n",
      "torch.Size([938330])\n"
     ]
    }
   ],
   "source": [
    "train_data   = CustomMawiDataset(year='2019', month='01', as_matrix=False)\n",
    "test_data    = CustomMawiDataset(year='2019', month='01', as_matrix=False)"
   ]
  },
  {
   "cell_type": "code",
   "execution_count": 3,
   "metadata": {
    "scrolled": false
   },
   "outputs": [
    {
     "data": {
      "text/plain": [
       "(tensor([ 1., 74., 74.,  0.,  0.,  0.,  0.,  0.,  0.,  0.,  0.,  1.,  0., 74.,\n",
       "          0.,  0.,  0.,  0.,  0.,  0.,  0.,  0.,  1.,  0.,  0.,  0.,  0.,  0.,\n",
       "          0.,  0.,  0.,  0.,  0.,  0.,  0.,  1.,  1.,  0.,  0.,  0.,  0.,  0.,\n",
       "          0.,  0.,  0.,  0.,  1.,  0.]),\n",
       " tensor(0))"
      ]
     },
     "execution_count": 3,
     "metadata": {},
     "output_type": "execute_result"
    }
   ],
   "source": [
    "test_data[0]"
   ]
  },
  {
   "cell_type": "code",
   "execution_count": 13,
   "metadata": {},
   "outputs": [],
   "source": [
    "torch.manual_seed(101)  # for consistent results\n",
    "\n",
    "train_loader = DataLoader(train_data, batch_size=1000, shuffle=True)\n",
    "\n",
    "test_loader = DataLoader(test_data, batch_size=5000, shuffle=False)"
   ]
  },
  {
   "cell_type": "code",
   "execution_count": 26,
   "metadata": {},
   "outputs": [
    {
     "name": "stdout",
     "output_type": "stream",
     "text": [
      "(5000, 48)\n",
      "0\n",
      "(5000, 48)\n",
      "0\n",
      "(5000, 48)\n",
      "0\n",
      "(5000, 48)\n",
      "0\n",
      "(5000, 48)\n",
      "0\n",
      "(5000, 48)\n",
      "0\n",
      "(5000, 48)\n",
      "970\n",
      "(5000, 48)\n",
      "5000\n",
      "(5000, 48)\n",
      "5000\n",
      "(5000, 48)\n",
      "5000\n",
      "(5000, 48)\n",
      "5000\n",
      "(5000, 48)\n",
      "5000\n",
      "(5000, 48)\n",
      "5000\n",
      "(5000, 48)\n",
      "3060\n",
      "(5000, 48)\n",
      "0\n",
      "(5000, 48)\n",
      "0\n",
      "(5000, 48)\n",
      "0\n",
      "(5000, 48)\n",
      "0\n",
      "(5000, 48)\n",
      "0\n",
      "(5000, 48)\n",
      "0\n",
      "(5000, 48)\n",
      "0\n",
      "(5000, 48)\n",
      "3854\n",
      "(5000, 48)\n",
      "5000\n",
      "(5000, 48)\n",
      "5000\n",
      "(5000, 48)\n",
      "5000\n",
      "(5000, 48)\n",
      "5000\n",
      "(5000, 48)\n",
      "5000\n",
      "(5000, 48)\n",
      "5000\n",
      "(5000, 48)\n",
      "4232\n",
      "(5000, 48)\n",
      "1377\n",
      "(5000, 48)\n",
      "0\n",
      "(5000, 48)\n",
      "3225\n",
      "(5000, 48)\n",
      "5000\n",
      "(5000, 48)\n",
      "1564\n",
      "(5000, 48)\n",
      "0\n",
      "(5000, 48)\n",
      "0\n",
      "(5000, 48)\n",
      "0\n",
      "(5000, 48)\n",
      "0\n",
      "(5000, 48)\n",
      "4954\n",
      "(5000, 48)\n",
      "5000\n",
      "(5000, 48)\n",
      "5000\n",
      "(5000, 48)\n",
      "5000\n",
      "(5000, 48)\n",
      "3528\n",
      "(5000, 48)\n",
      "0\n",
      "(5000, 48)\n",
      "0\n",
      "(5000, 48)\n",
      "0\n",
      "(5000, 48)\n",
      "0\n",
      "(5000, 48)\n",
      "0\n",
      "(5000, 48)\n",
      "0\n",
      "(5000, 48)\n",
      "3485\n",
      "(5000, 48)\n",
      "5000\n",
      "(5000, 48)\n",
      "5000\n",
      "(5000, 48)\n",
      "5000\n",
      "(5000, 48)\n",
      "5000\n",
      "(5000, 48)\n",
      "5000\n",
      "(5000, 48)\n",
      "4502\n",
      "(5000, 48)\n",
      "0\n",
      "(5000, 48)\n",
      "0\n",
      "(5000, 48)\n",
      "457\n",
      "(5000, 48)\n",
      "5000\n",
      "(5000, 48)\n",
      "5000\n",
      "(5000, 48)\n",
      "4584\n",
      "(5000, 48)\n",
      "0\n",
      "(5000, 48)\n",
      "756\n",
      "(5000, 48)\n",
      "5000\n",
      "(5000, 48)\n",
      "3904\n",
      "(5000, 48)\n",
      "0\n",
      "(5000, 48)\n",
      "0\n",
      "(5000, 48)\n",
      "0\n",
      "(5000, 48)\n",
      "0\n",
      "(5000, 48)\n",
      "0\n",
      "(5000, 48)\n",
      "0\n",
      "(5000, 48)\n",
      "3802\n",
      "(5000, 48)\n",
      "5000\n",
      "(5000, 48)\n",
      "5000\n",
      "(5000, 48)\n",
      "5000\n",
      "(5000, 48)\n",
      "5000\n",
      "(5000, 48)\n",
      "5000\n",
      "(5000, 48)\n",
      "3492\n",
      "(5000, 48)\n",
      "0\n",
      "(5000, 48)\n",
      "0\n",
      "(5000, 48)\n",
      "0\n",
      "(5000, 48)\n",
      "0\n",
      "(5000, 48)\n",
      "0\n",
      "(5000, 48)\n",
      "0\n",
      "(5000, 48)\n",
      "0\n",
      "(5000, 48)\n",
      "2470\n",
      "(5000, 48)\n",
      "5000\n",
      "(5000, 48)\n",
      "5000\n",
      "(5000, 48)\n",
      "5000\n",
      "(5000, 48)\n",
      "5000\n",
      "(5000, 48)\n",
      "5000\n",
      "(5000, 48)\n",
      "5000\n",
      "(5000, 48)\n",
      "5000\n",
      "(5000, 48)\n",
      "1568\n",
      "(5000, 48)\n",
      "0\n",
      "(5000, 48)\n",
      "793\n",
      "(5000, 48)\n",
      "5000\n",
      "(5000, 48)\n",
      "5000\n",
      "(5000, 48)\n",
      "1846\n",
      "(5000, 48)\n",
      "0\n",
      "(5000, 48)\n",
      "0\n",
      "(5000, 48)\n",
      "1824\n",
      "(5000, 48)\n",
      "5000\n",
      "(5000, 48)\n",
      "5000\n",
      "(5000, 48)\n",
      "4506\n",
      "(5000, 48)\n",
      "0\n",
      "(5000, 48)\n",
      "3826\n",
      "(5000, 48)\n",
      "2842\n",
      "(5000, 48)\n",
      "0\n",
      "(5000, 48)\n",
      "3938\n",
      "(5000, 48)\n",
      "4282\n",
      "(5000, 48)\n",
      "0\n",
      "(5000, 48)\n",
      "0\n",
      "(5000, 48)\n",
      "0\n",
      "(5000, 48)\n",
      "0\n",
      "(5000, 48)\n",
      "0\n",
      "(5000, 48)\n",
      "0\n",
      "(5000, 48)\n",
      "0\n",
      "(5000, 48)\n",
      "0\n",
      "(5000, 48)\n",
      "0\n",
      "(5000, 48)\n",
      "0\n",
      "(5000, 48)\n",
      "0\n",
      "(5000, 48)\n",
      "0\n",
      "(5000, 48)\n",
      "0\n",
      "(5000, 48)\n",
      "3741\n",
      "(5000, 48)\n",
      "5000\n",
      "(5000, 48)\n",
      "5000\n",
      "(5000, 48)\n",
      "5000\n",
      "(5000, 48)\n",
      "5000\n",
      "(5000, 48)\n",
      "5000\n",
      "(5000, 48)\n",
      "5000\n",
      "(5000, 48)\n",
      "5000\n",
      "(5000, 48)\n",
      "5000\n",
      "(5000, 48)\n",
      "5000\n",
      "(5000, 48)\n",
      "5000\n",
      "(5000, 48)\n",
      "5000\n",
      "(5000, 48)\n",
      "5000\n",
      "(5000, 48)\n",
      "3236\n",
      "(5000, 48)\n",
      "355\n",
      "(5000, 48)\n",
      "5000\n",
      "(5000, 48)\n",
      "1054\n",
      "(5000, 48)\n",
      "0\n",
      "(5000, 48)\n",
      "3516\n",
      "(5000, 48)\n",
      "5000\n",
      "(5000, 48)\n",
      "1914\n",
      "(5000, 48)\n",
      "0\n",
      "(5000, 48)\n",
      "2907\n",
      "(5000, 48)\n",
      "5000\n",
      "(5000, 48)\n",
      "2272\n",
      "(5000, 48)\n",
      "0\n",
      "(5000, 48)\n",
      "2385\n",
      "(5000, 48)\n",
      "5000\n",
      "(5000, 48)\n",
      "2958\n",
      "(5000, 48)\n",
      "0\n",
      "(5000, 48)\n",
      "0\n",
      "(5000, 48)\n",
      "2150\n",
      "(5000, 48)\n",
      "5000\n",
      "(5000, 48)\n",
      "5000\n",
      "(5000, 48)\n",
      "2742\n",
      "(5000, 48)\n",
      "1800\n",
      "(5000, 48)\n",
      "3658\n",
      "(5000, 48)\n",
      "0\n",
      "(5000, 48)\n",
      "2694\n",
      "(5000, 48)\n",
      "5000\n",
      "(5000, 48)\n",
      "954\n",
      "(5000, 48)\n",
      "3666\n",
      "(5000, 48)\n",
      "1714\n",
      "(5000, 48)\n",
      "0\n",
      "(5000, 48)\n",
      "0\n",
      "(5000, 48)\n",
      "2193\n",
      "(5000, 48)\n",
      "5000\n",
      "(5000, 48)\n",
      "5000\n",
      "(5000, 48)\n",
      "3900\n",
      "(5000, 48)\n",
      "0\n",
      "(5000, 48)\n",
      "3306\n",
      "(5000, 48)\n",
      "4488\n",
      "(5000, 48)\n",
      "0\n",
      "(5000, 48)\n",
      "0\n",
      "(5000, 48)\n",
      "1848\n",
      "(5000, 48)\n",
      "5000\n",
      "(5000, 48)\n",
      "5000\n",
      "(5000, 48)\n",
      "1816\n",
      "(5000, 48)\n",
      "0\n",
      "(5000, 48)\n",
      "0\n",
      "(5000, 48)\n",
      "4927\n",
      "(5000, 48)\n",
      "5000\n",
      "(3330, 48)\n",
      "3330\n"
     ]
    }
   ],
   "source": [
    "for i, (X, y) in enumerate(test_loader):\n",
    "    print(X.numpy().shape)\n",
    "    y_np = y.numpy()\n",
    "    print(np.count_nonzero(y_np == 1))"
   ]
  },
  {
   "cell_type": "code",
   "execution_count": 6,
   "metadata": {},
   "outputs": [],
   "source": [
    "class MultilayerPerceptron(nn.Module):\n",
    "    def __init__(self, in_sz=48, out_sz=2, layers=[120,84]):\n",
    "        super().__init__()\n",
    "        self.fc1 = nn.Linear(in_sz,layers[0])\n",
    "        self.fc2 = nn.Linear(layers[0],layers[1])\n",
    "        self.fc3 = nn.Linear(layers[1],out_sz)\n",
    "    \n",
    "    def forward(self,X):\n",
    "        X = F.relu(self.fc1(X))\n",
    "        X = F.relu(self.fc2(X))\n",
    "        X = self.fc3(X)\n",
    "        return F.log_softmax(X, dim=1)"
   ]
  },
  {
   "cell_type": "code",
   "execution_count": 7,
   "metadata": {},
   "outputs": [
    {
     "data": {
      "text/plain": [
       "MultilayerPerceptron(\n",
       "  (fc1): Linear(in_features=48, out_features=120, bias=True)\n",
       "  (fc2): Linear(in_features=120, out_features=84, bias=True)\n",
       "  (fc3): Linear(in_features=84, out_features=2, bias=True)\n",
       ")"
      ]
     },
     "execution_count": 7,
     "metadata": {},
     "output_type": "execute_result"
    }
   ],
   "source": [
    "torch.manual_seed(101)\n",
    "model = MultilayerPerceptron()\n",
    "model"
   ]
  },
  {
   "cell_type": "markdown",
   "metadata": {},
   "source": [
    "## Define loss function & optimizer"
   ]
  },
  {
   "cell_type": "code",
   "execution_count": 9,
   "metadata": {},
   "outputs": [],
   "source": [
    "criterion = nn.CrossEntropyLoss()\n",
    "optimizer = torch.optim.Adam(model.parameters(), lr=0.001)"
   ]
  },
  {
   "cell_type": "code",
   "execution_count": 10,
   "metadata": {},
   "outputs": [
    {
     "name": "stdout",
     "output_type": "stream",
     "text": [
      "epoch:  0  batch:  200 [ 20000/60000]  loss: 85.29566193  accuracy:  51.650%\n",
      "epoch:  0  batch:  400 [ 40000/60000]  loss: 177.84921265  accuracy:  53.483%\n",
      "epoch:  0  batch:  600 [ 60000/60000]  loss: 547.72784424  accuracy:  55.185%\n",
      "epoch:  0  batch:  800 [ 80000/60000]  loss: 122.79354858  accuracy:  55.657%\n",
      "epoch:  0  batch: 1000 [100000/60000]  loss: 5.57355785  accuracy:  55.999%\n",
      "epoch:  0  batch: 1200 [120000/60000]  loss: 35.77248383  accuracy:  56.839%\n",
      "epoch:  0  batch: 1400 [140000/60000]  loss: 15.87997341  accuracy:  57.657%\n",
      "epoch:  0  batch: 1600 [160000/60000]  loss: 37.67325592  accuracy:  58.956%\n",
      "epoch:  0  batch: 1800 [180000/60000]  loss: 2.24359465  accuracy:  59.545%\n",
      "epoch:  0  batch: 2000 [200000/60000]  loss: 4.90122843  accuracy:  60.423%\n",
      "epoch:  0  batch: 2200 [220000/60000]  loss: 41.68755341  accuracy:  61.120%\n",
      "epoch:  0  batch: 2400 [240000/60000]  loss: 26.38664055  accuracy:  61.667%\n",
      "epoch:  0  batch: 2600 [260000/60000]  loss: 2.38094020  accuracy:  62.425%\n",
      "epoch:  0  batch: 2800 [280000/60000]  loss: 22.55840302  accuracy:  63.201%\n",
      "epoch:  0  batch: 3000 [300000/60000]  loss: 2.08035135  accuracy:  63.758%\n",
      "epoch:  0  batch: 3200 [320000/60000]  loss: 13.87826824  accuracy:  64.417%\n",
      "epoch:  0  batch: 3400 [340000/60000]  loss: 4.30368710  accuracy:  64.914%\n",
      "epoch:  0  batch: 3600 [360000/60000]  loss: 8.24818230  accuracy:  65.431%\n",
      "epoch:  0  batch: 3800 [380000/60000]  loss: 0.58736235  accuracy:  65.902%\n",
      "epoch:  0  batch: 4000 [400000/60000]  loss: 2.60222507  accuracy:  66.374%\n",
      "epoch:  0  batch: 4200 [420000/60000]  loss: 3.04562259  accuracy:  66.649%\n",
      "epoch:  0  batch: 4400 [440000/60000]  loss: 14.25961685  accuracy:  66.861%\n",
      "epoch:  0  batch: 4600 [460000/60000]  loss: 4.13351202  accuracy:  67.193%\n",
      "epoch:  0  batch: 4800 [480000/60000]  loss: 8.12994194  accuracy:  67.510%\n",
      "epoch:  0  batch: 5000 [500000/60000]  loss: 0.66068304  accuracy:  67.852%\n",
      "epoch:  0  batch: 5200 [520000/60000]  loss: 0.56794524  accuracy:  68.169%\n",
      "epoch:  0  batch: 5400 [540000/60000]  loss: 0.60516143  accuracy:  68.454%\n",
      "epoch:  0  batch: 5600 [560000/60000]  loss: 0.98744559  accuracy:  68.758%\n",
      "epoch:  0  batch: 5800 [580000/60000]  loss: 0.87412190  accuracy:  68.895%\n",
      "epoch:  0  batch: 6000 [600000/60000]  loss: 0.70466322  accuracy:  69.033%\n",
      "epoch:  0  batch: 6200 [620000/60000]  loss: 2.27406621  accuracy:  69.307%\n",
      "epoch:  0  batch: 6400 [640000/60000]  loss: 0.42663449  accuracy:  69.620%\n",
      "epoch:  0  batch: 6600 [660000/60000]  loss: 3.43898439  accuracy:  69.896%\n",
      "epoch:  0  batch: 6800 [680000/60000]  loss: 1.19632816  accuracy:  70.134%\n",
      "epoch:  0  batch: 7000 [700000/60000]  loss: 0.53719532  accuracy:  70.381%\n",
      "epoch:  0  batch: 7200 [720000/60000]  loss: 0.47543848  accuracy:  70.668%\n",
      "epoch:  0  batch: 7400 [740000/60000]  loss: 0.41962683  accuracy:  70.897%\n",
      "epoch:  0  batch: 7600 [760000/60000]  loss: 0.39584264  accuracy:  71.164%\n",
      "epoch:  0  batch: 7800 [780000/60000]  loss: 0.48729515  accuracy:  71.415%\n",
      "epoch:  0  batch: 8000 [800000/60000]  loss: 0.51135814  accuracy:  71.648%\n",
      "epoch:  0  batch: 8200 [820000/60000]  loss: 0.42366055  accuracy:  71.875%\n",
      "epoch:  0  batch: 8400 [840000/60000]  loss: 0.50410378  accuracy:  72.100%\n",
      "epoch:  0  batch: 8600 [860000/60000]  loss: 18.69184494  accuracy:  72.219%\n",
      "epoch:  0  batch: 8800 [880000/60000]  loss: 0.43258512  accuracy:  72.347%\n",
      "epoch:  0  batch: 9000 [900000/60000]  loss: 0.42621547  accuracy:  72.518%\n",
      "epoch:  0  batch: 9200 [920000/60000]  loss: 0.47197545  accuracy:  72.677%\n",
      "epoch:  1  batch:  200 [ 20000/60000]  loss: 0.53042829  accuracy:  81.365%\n",
      "epoch:  1  batch:  400 [ 40000/60000]  loss: 0.39881244  accuracy:  81.933%\n",
      "epoch:  1  batch:  600 [ 60000/60000]  loss: 0.53722703  accuracy:  82.278%\n",
      "epoch:  1  batch:  800 [ 80000/60000]  loss: 0.54923797  accuracy:  82.689%\n",
      "epoch:  1  batch: 1000 [100000/60000]  loss: 0.48998651  accuracy:  82.698%\n",
      "epoch:  1  batch: 1200 [120000/60000]  loss: 0.48812079  accuracy:  82.814%\n",
      "epoch:  1  batch: 1400 [140000/60000]  loss: 0.50622445  accuracy:  82.539%\n",
      "epoch:  1  batch: 1600 [160000/60000]  loss: 0.49494746  accuracy:  82.692%\n",
      "epoch:  1  batch: 1800 [180000/60000]  loss: 0.40856740  accuracy:  82.746%\n",
      "epoch:  1  batch: 2000 [200000/60000]  loss: 0.46552476  accuracy:  82.893%\n",
      "epoch:  1  batch: 2200 [220000/60000]  loss: 0.47703925  accuracy:  82.920%\n",
      "epoch:  1  batch: 2400 [240000/60000]  loss: 0.40019146  accuracy:  82.967%\n",
      "epoch:  1  batch: 2600 [260000/60000]  loss: 0.42995280  accuracy:  83.084%\n",
      "epoch:  1  batch: 2800 [280000/60000]  loss: 0.42867991  accuracy:  83.080%\n",
      "epoch:  1  batch: 3000 [300000/60000]  loss: 0.47333890  accuracy:  83.115%\n",
      "epoch:  1  batch: 3200 [320000/60000]  loss: 0.36052564  accuracy:  83.073%\n",
      "epoch:  1  batch: 3400 [340000/60000]  loss: 0.41812205  accuracy:  83.052%\n",
      "epoch:  1  batch: 3600 [360000/60000]  loss: 0.47746649  accuracy:  83.100%\n",
      "epoch:  1  batch: 3800 [380000/60000]  loss: 0.38671067  accuracy:  83.101%\n",
      "epoch:  1  batch: 4000 [400000/60000]  loss: 0.37709519  accuracy:  83.088%\n",
      "epoch:  1  batch: 4200 [420000/60000]  loss: 0.46946782  accuracy:  83.066%\n",
      "epoch:  1  batch: 4400 [440000/60000]  loss: 0.47802311  accuracy:  83.117%\n",
      "epoch:  1  batch: 4600 [460000/60000]  loss: 0.29809380  accuracy:  83.118%\n",
      "epoch:  1  batch: 4800 [480000/60000]  loss: 0.59079152  accuracy:  83.161%\n",
      "epoch:  1  batch: 5000 [500000/60000]  loss: 0.46632776  accuracy:  83.114%\n",
      "epoch:  1  batch: 5200 [520000/60000]  loss: 0.38991901  accuracy:  83.124%\n",
      "epoch:  1  batch: 5400 [540000/60000]  loss: 0.44245324  accuracy:  83.101%\n",
      "epoch:  1  batch: 5600 [560000/60000]  loss: 0.41672361  accuracy:  83.123%\n",
      "epoch:  1  batch: 5800 [580000/60000]  loss: 0.49213254  accuracy:  83.063%\n",
      "epoch:  1  batch: 6000 [600000/60000]  loss: 0.45100889  accuracy:  83.066%\n",
      "epoch:  1  batch: 6200 [620000/60000]  loss: 0.83998644  accuracy:  82.911%\n",
      "epoch:  1  batch: 6400 [640000/60000]  loss: 0.70946884  accuracy:  82.410%\n",
      "epoch:  1  batch: 6600 [660000/60000]  loss: 0.51926333  accuracy:  81.942%\n",
      "epoch:  1  batch: 6800 [680000/60000]  loss: 0.57273614  accuracy:  81.532%\n",
      "epoch:  1  batch: 7000 [700000/60000]  loss: 0.62862295  accuracy:  81.128%\n",
      "epoch:  1  batch: 7200 [720000/60000]  loss: 0.51150471  accuracy:  80.753%\n",
      "epoch:  1  batch: 7400 [740000/60000]  loss: 0.58421570  accuracy:  80.386%\n",
      "epoch:  1  batch: 7600 [760000/60000]  loss: 0.63088620  accuracy:  80.054%\n",
      "epoch:  1  batch: 7800 [780000/60000]  loss: 0.51106048  accuracy:  79.730%\n",
      "epoch:  1  batch: 8000 [800000/60000]  loss: 0.57144099  accuracy:  79.426%\n",
      "epoch:  1  batch: 8200 [820000/60000]  loss: 0.57427210  accuracy:  79.130%\n",
      "epoch:  1  batch: 8400 [840000/60000]  loss: 0.51314324  accuracy:  78.844%\n",
      "epoch:  1  batch: 8600 [860000/60000]  loss: 0.66817129  accuracy:  78.564%\n",
      "epoch:  1  batch: 8800 [880000/60000]  loss: 0.56144828  accuracy:  78.296%\n",
      "epoch:  1  batch: 9000 [900000/60000]  loss: 0.52334005  accuracy:  78.046%\n",
      "epoch:  1  batch: 9200 [920000/60000]  loss: 0.50313145  accuracy:  77.829%\n",
      "epoch:  2  batch:  200 [ 20000/60000]  loss: 0.49918342  accuracy:  66.700%\n",
      "epoch:  2  batch:  400 [ 40000/60000]  loss: 0.55375499  accuracy:  67.030%\n",
      "epoch:  2  batch:  600 [ 60000/60000]  loss: 0.55929828  accuracy:  67.165%\n",
      "epoch:  2  batch:  800 [ 80000/60000]  loss: 0.59551150  accuracy:  67.270%\n",
      "epoch:  2  batch: 1000 [100000/60000]  loss: 0.56298441  accuracy:  67.237%\n",
      "epoch:  2  batch: 1200 [120000/60000]  loss: 0.48744383  accuracy:  67.282%\n",
      "epoch:  2  batch: 1400 [140000/60000]  loss: 0.56394798  accuracy:  67.218%\n",
      "epoch:  2  batch: 1600 [160000/60000]  loss: 0.51202017  accuracy:  67.215%\n",
      "epoch:  2  batch: 1800 [180000/60000]  loss: 0.55027121  accuracy:  67.272%\n",
      "epoch:  2  batch: 2000 [200000/60000]  loss: 0.51391906  accuracy:  67.290%\n",
      "epoch:  2  batch: 2200 [220000/60000]  loss: 0.52563673  accuracy:  67.355%\n",
      "epoch:  2  batch: 2400 [240000/60000]  loss: 0.57590330  accuracy:  67.377%\n",
      "epoch:  2  batch: 2600 [260000/60000]  loss: 0.59973049  accuracy:  67.382%\n",
      "epoch:  2  batch: 2800 [280000/60000]  loss: 0.45373252  accuracy:  67.401%\n",
      "epoch:  2  batch: 3000 [300000/60000]  loss: 0.53588510  accuracy:  67.421%\n",
      "epoch:  2  batch: 3200 [320000/60000]  loss: 0.63357520  accuracy:  67.435%\n"
     ]
    },
    {
     "name": "stdout",
     "output_type": "stream",
     "text": [
      "epoch:  2  batch: 3400 [340000/60000]  loss: 0.55093783  accuracy:  67.460%\n",
      "epoch:  2  batch: 3600 [360000/60000]  loss: 0.58512491  accuracy:  67.463%\n",
      "epoch:  2  batch: 3800 [380000/60000]  loss: 0.61356372  accuracy:  67.455%\n",
      "epoch:  2  batch: 4000 [400000/60000]  loss: 0.54848886  accuracy:  67.485%\n",
      "epoch:  2  batch: 4200 [420000/60000]  loss: 0.60005939  accuracy:  67.476%\n",
      "epoch:  2  batch: 4400 [440000/60000]  loss: 0.58648044  accuracy:  67.486%\n",
      "epoch:  2  batch: 4600 [460000/60000]  loss: 0.58387858  accuracy:  67.497%\n",
      "epoch:  2  batch: 4800 [480000/60000]  loss: 0.52861035  accuracy:  67.477%\n",
      "epoch:  2  batch: 5000 [500000/60000]  loss: 0.49742809  accuracy:  67.467%\n",
      "epoch:  2  batch: 5200 [520000/60000]  loss: 0.51303983  accuracy:  67.475%\n",
      "epoch:  2  batch: 5400 [540000/60000]  loss: 0.51829743  accuracy:  67.476%\n",
      "epoch:  2  batch: 5600 [560000/60000]  loss: 0.59066397  accuracy:  67.443%\n",
      "epoch:  2  batch: 5800 [580000/60000]  loss: 0.54300660  accuracy:  67.438%\n",
      "epoch:  2  batch: 6000 [600000/60000]  loss: 0.59822088  accuracy:  67.449%\n",
      "epoch:  2  batch: 6200 [620000/60000]  loss: 0.58641303  accuracy:  67.444%\n",
      "epoch:  2  batch: 6400 [640000/60000]  loss: 0.67682791  accuracy:  67.437%\n",
      "epoch:  2  batch: 6600 [660000/60000]  loss: 0.53797984  accuracy:  67.418%\n",
      "epoch:  2  batch: 6800 [680000/60000]  loss: 0.54699194  accuracy:  67.397%\n",
      "epoch:  2  batch: 7000 [700000/60000]  loss: 0.52062654  accuracy:  67.399%\n",
      "epoch:  2  batch: 7200 [720000/60000]  loss: 0.54812574  accuracy:  67.408%\n",
      "epoch:  2  batch: 7400 [740000/60000]  loss: 0.67830569  accuracy:  67.416%\n",
      "epoch:  2  batch: 7600 [760000/60000]  loss: 0.53898275  accuracy:  67.429%\n",
      "epoch:  2  batch: 7800 [780000/60000]  loss: 0.60847414  accuracy:  67.439%\n",
      "epoch:  2  batch: 8000 [800000/60000]  loss: 0.55432963  accuracy:  67.438%\n",
      "epoch:  2  batch: 8200 [820000/60000]  loss: 0.59911799  accuracy:  67.438%\n",
      "epoch:  2  batch: 8400 [840000/60000]  loss: 0.54228425  accuracy:  67.438%\n",
      "epoch:  2  batch: 8600 [860000/60000]  loss: 0.55574441  accuracy:  67.425%\n",
      "epoch:  2  batch: 8800 [880000/60000]  loss: 0.54071814  accuracy:  67.419%\n",
      "epoch:  2  batch: 9000 [900000/60000]  loss: 0.56527960  accuracy:  67.425%\n",
      "epoch:  2  batch: 9200 [920000/60000]  loss: 0.55526519  accuracy:  67.423%\n",
      "\n",
      "Duration: 55 seconds\n"
     ]
    }
   ],
   "source": [
    "import time\n",
    "start_time = time.time()\n",
    "\n",
    "epochs = 3\n",
    "train_losses = []\n",
    "test_losses = []\n",
    "train_correct = []\n",
    "test_correct = []\n",
    "\n",
    "for i in range(epochs):\n",
    "    trn_corr = 0\n",
    "    tst_corr = 0\n",
    "    \n",
    "    # Run the training batches\n",
    "    for b, (X_train, y_train) in enumerate(train_loader):\n",
    "        b+=1\n",
    "        \n",
    "        # Apply the model\n",
    "        y_pred = model(X_train)  # Here we flatten X_train\n",
    "        loss = criterion(y_pred, y_train)\n",
    " \n",
    "        # Tally the number of correct predictions\n",
    "        predicted = torch.max(y_pred.data, 1)[1]\n",
    "        batch_corr = (predicted == y_train).sum()\n",
    "        trn_corr += batch_corr\n",
    "        \n",
    "        # Update parameters\n",
    "        optimizer.zero_grad()\n",
    "        loss.backward()\n",
    "        optimizer.step()\n",
    "        \n",
    "        # Print interim results\n",
    "        if b%200 == 0:\n",
    "            print(f'epoch: {i:2}  batch: {b:4} [{100*b:6}/60000]  loss: {loss.item():10.8f}  \\\n",
    "accuracy: {trn_corr.item()*100/(100*b):7.3f}%')\n",
    "    \n",
    "    # Update train loss & accuracy for the epoch\n",
    "    train_losses.append(loss)\n",
    "    train_correct.append(trn_corr)\n",
    "        \n",
    "    # Run the testing batches\n",
    "    with torch.no_grad():\n",
    "        for b, (X_test, y_test) in enumerate(test_loader):\n",
    "\n",
    "            # Apply the model\n",
    "            y_val = model(X_test)\n",
    "\n",
    "            # Tally the number of correct predictions\n",
    "            predicted = torch.max(y_val.data, 1)[1] \n",
    "            tst_corr += (predicted == y_test).sum()\n",
    "    \n",
    "    # Update test loss & accuracy for the epoch\n",
    "    loss = criterion(y_val, y_test)\n",
    "    test_losses.append(loss)\n",
    "    test_correct.append(tst_corr)\n",
    "        \n",
    "print(f'\\nDuration: {time.time() - start_time:.0f} seconds') # print the time elapsed            "
   ]
  },
  {
   "cell_type": "markdown",
   "metadata": {},
   "source": [
    "## Plot the loss and accuracy comparisons"
   ]
  },
  {
   "cell_type": "code",
   "execution_count": 15,
   "metadata": {},
   "outputs": [
    {
     "ename": "RuntimeError",
     "evalue": "Can't call numpy() on Tensor that requires grad. Use tensor.detach().numpy() instead.",
     "output_type": "error",
     "traceback": [
      "\u001b[0;31m---------------------------------------------------------------------------\u001b[0m",
      "\u001b[0;31mRuntimeError\u001b[0m                              Traceback (most recent call last)",
      "Cell \u001b[0;32mIn[15], line 1\u001b[0m\n\u001b[0;32m----> 1\u001b[0m \u001b[43mplt\u001b[49m\u001b[38;5;241;43m.\u001b[39;49m\u001b[43mplot\u001b[49m\u001b[43m(\u001b[49m\u001b[43mtrain_losses\u001b[49m\u001b[43m,\u001b[49m\u001b[43m \u001b[49m\u001b[43mlabel\u001b[49m\u001b[38;5;241;43m=\u001b[39;49m\u001b[38;5;124;43m'\u001b[39;49m\u001b[38;5;124;43mtraining loss\u001b[39;49m\u001b[38;5;124;43m'\u001b[39;49m\u001b[43m)\u001b[49m\n\u001b[1;32m      2\u001b[0m plt\u001b[38;5;241m.\u001b[39mplot(test_losses, label\u001b[38;5;241m=\u001b[39m\u001b[38;5;124m'\u001b[39m\u001b[38;5;124mvalidation loss\u001b[39m\u001b[38;5;124m'\u001b[39m)\n\u001b[1;32m      3\u001b[0m plt\u001b[38;5;241m.\u001b[39mtitle(\u001b[38;5;124m'\u001b[39m\u001b[38;5;124mLoss at the end of each epoch\u001b[39m\u001b[38;5;124m'\u001b[39m)\n",
      "File \u001b[0;32m~/mambaforge/envs/branchynet/lib/python3.10/site-packages/matplotlib/pyplot.py:2740\u001b[0m, in \u001b[0;36mplot\u001b[0;34m(scalex, scaley, data, *args, **kwargs)\u001b[0m\n\u001b[1;32m   2738\u001b[0m \u001b[38;5;129m@_copy_docstring_and_deprecators\u001b[39m(Axes\u001b[38;5;241m.\u001b[39mplot)\n\u001b[1;32m   2739\u001b[0m \u001b[38;5;28;01mdef\u001b[39;00m \u001b[38;5;21mplot\u001b[39m(\u001b[38;5;241m*\u001b[39margs, scalex\u001b[38;5;241m=\u001b[39m\u001b[38;5;28;01mTrue\u001b[39;00m, scaley\u001b[38;5;241m=\u001b[39m\u001b[38;5;28;01mTrue\u001b[39;00m, data\u001b[38;5;241m=\u001b[39m\u001b[38;5;28;01mNone\u001b[39;00m, \u001b[38;5;241m*\u001b[39m\u001b[38;5;241m*\u001b[39mkwargs):\n\u001b[0;32m-> 2740\u001b[0m     \u001b[38;5;28;01mreturn\u001b[39;00m \u001b[43mgca\u001b[49m\u001b[43m(\u001b[49m\u001b[43m)\u001b[49m\u001b[38;5;241;43m.\u001b[39;49m\u001b[43mplot\u001b[49m\u001b[43m(\u001b[49m\n\u001b[1;32m   2741\u001b[0m \u001b[43m        \u001b[49m\u001b[38;5;241;43m*\u001b[39;49m\u001b[43margs\u001b[49m\u001b[43m,\u001b[49m\u001b[43m \u001b[49m\u001b[43mscalex\u001b[49m\u001b[38;5;241;43m=\u001b[39;49m\u001b[43mscalex\u001b[49m\u001b[43m,\u001b[49m\u001b[43m \u001b[49m\u001b[43mscaley\u001b[49m\u001b[38;5;241;43m=\u001b[39;49m\u001b[43mscaley\u001b[49m\u001b[43m,\u001b[49m\n\u001b[1;32m   2742\u001b[0m \u001b[43m        \u001b[49m\u001b[38;5;241;43m*\u001b[39;49m\u001b[38;5;241;43m*\u001b[39;49m\u001b[43m(\u001b[49m\u001b[43m{\u001b[49m\u001b[38;5;124;43m\"\u001b[39;49m\u001b[38;5;124;43mdata\u001b[39;49m\u001b[38;5;124;43m\"\u001b[39;49m\u001b[43m:\u001b[49m\u001b[43m \u001b[49m\u001b[43mdata\u001b[49m\u001b[43m}\u001b[49m\u001b[43m \u001b[49m\u001b[38;5;28;43;01mif\u001b[39;49;00m\u001b[43m \u001b[49m\u001b[43mdata\u001b[49m\u001b[43m \u001b[49m\u001b[38;5;129;43;01mis\u001b[39;49;00m\u001b[43m \u001b[49m\u001b[38;5;129;43;01mnot\u001b[39;49;00m\u001b[43m \u001b[49m\u001b[38;5;28;43;01mNone\u001b[39;49;00m\u001b[43m \u001b[49m\u001b[38;5;28;43;01melse\u001b[39;49;00m\u001b[43m \u001b[49m\u001b[43m{\u001b[49m\u001b[43m}\u001b[49m\u001b[43m)\u001b[49m\u001b[43m,\u001b[49m\u001b[43m \u001b[49m\u001b[38;5;241;43m*\u001b[39;49m\u001b[38;5;241;43m*\u001b[39;49m\u001b[43mkwargs\u001b[49m\u001b[43m)\u001b[49m\n",
      "File \u001b[0;32m~/mambaforge/envs/branchynet/lib/python3.10/site-packages/matplotlib/axes/_axes.py:1662\u001b[0m, in \u001b[0;36mAxes.plot\u001b[0;34m(self, scalex, scaley, data, *args, **kwargs)\u001b[0m\n\u001b[1;32m   1419\u001b[0m \u001b[38;5;250m\u001b[39m\u001b[38;5;124;03m\"\"\"\u001b[39;00m\n\u001b[1;32m   1420\u001b[0m \u001b[38;5;124;03mPlot y versus x as lines and/or markers.\u001b[39;00m\n\u001b[1;32m   1421\u001b[0m \n\u001b[0;32m   (...)\u001b[0m\n\u001b[1;32m   1659\u001b[0m \u001b[38;5;124;03m(``'green'``) or hex strings (``'#008000'``).\u001b[39;00m\n\u001b[1;32m   1660\u001b[0m \u001b[38;5;124;03m\"\"\"\u001b[39;00m\n\u001b[1;32m   1661\u001b[0m kwargs \u001b[38;5;241m=\u001b[39m cbook\u001b[38;5;241m.\u001b[39mnormalize_kwargs(kwargs, mlines\u001b[38;5;241m.\u001b[39mLine2D)\n\u001b[0;32m-> 1662\u001b[0m lines \u001b[38;5;241m=\u001b[39m [\u001b[38;5;241m*\u001b[39m\u001b[38;5;28mself\u001b[39m\u001b[38;5;241m.\u001b[39m_get_lines(\u001b[38;5;241m*\u001b[39margs, data\u001b[38;5;241m=\u001b[39mdata, \u001b[38;5;241m*\u001b[39m\u001b[38;5;241m*\u001b[39mkwargs)]\n\u001b[1;32m   1663\u001b[0m \u001b[38;5;28;01mfor\u001b[39;00m line \u001b[38;5;129;01min\u001b[39;00m lines:\n\u001b[1;32m   1664\u001b[0m     \u001b[38;5;28mself\u001b[39m\u001b[38;5;241m.\u001b[39madd_line(line)\n",
      "File \u001b[0;32m~/mambaforge/envs/branchynet/lib/python3.10/site-packages/matplotlib/axes/_base.py:311\u001b[0m, in \u001b[0;36m_process_plot_var_args.__call__\u001b[0;34m(self, data, *args, **kwargs)\u001b[0m\n\u001b[1;32m    309\u001b[0m     this \u001b[38;5;241m+\u001b[39m\u001b[38;5;241m=\u001b[39m args[\u001b[38;5;241m0\u001b[39m],\n\u001b[1;32m    310\u001b[0m     args \u001b[38;5;241m=\u001b[39m args[\u001b[38;5;241m1\u001b[39m:]\n\u001b[0;32m--> 311\u001b[0m \u001b[38;5;28;01myield from\u001b[39;00m \u001b[38;5;28;43mself\u001b[39;49m\u001b[38;5;241;43m.\u001b[39;49m\u001b[43m_plot_args\u001b[49m\u001b[43m(\u001b[49m\n\u001b[1;32m    312\u001b[0m \u001b[43m    \u001b[49m\u001b[43mthis\u001b[49m\u001b[43m,\u001b[49m\u001b[43m \u001b[49m\u001b[43mkwargs\u001b[49m\u001b[43m,\u001b[49m\u001b[43m \u001b[49m\u001b[43mambiguous_fmt_datakey\u001b[49m\u001b[38;5;241;43m=\u001b[39;49m\u001b[43mambiguous_fmt_datakey\u001b[49m\u001b[43m)\u001b[49m\n",
      "File \u001b[0;32m~/mambaforge/envs/branchynet/lib/python3.10/site-packages/matplotlib/axes/_base.py:496\u001b[0m, in \u001b[0;36m_process_plot_var_args._plot_args\u001b[0;34m(self, tup, kwargs, return_kwargs, ambiguous_fmt_datakey)\u001b[0m\n\u001b[1;32m    494\u001b[0m     y \u001b[38;5;241m=\u001b[39m _check_1d(xy[\u001b[38;5;241m1\u001b[39m])\n\u001b[1;32m    495\u001b[0m \u001b[38;5;28;01melse\u001b[39;00m:\n\u001b[0;32m--> 496\u001b[0m     x, y \u001b[38;5;241m=\u001b[39m \u001b[43mindex_of\u001b[49m\u001b[43m(\u001b[49m\u001b[43mxy\u001b[49m\u001b[43m[\u001b[49m\u001b[38;5;241;43m-\u001b[39;49m\u001b[38;5;241;43m1\u001b[39;49m\u001b[43m]\u001b[49m\u001b[43m)\u001b[49m\n\u001b[1;32m    498\u001b[0m \u001b[38;5;28;01mif\u001b[39;00m \u001b[38;5;28mself\u001b[39m\u001b[38;5;241m.\u001b[39maxes\u001b[38;5;241m.\u001b[39mxaxis \u001b[38;5;129;01mis\u001b[39;00m \u001b[38;5;129;01mnot\u001b[39;00m \u001b[38;5;28;01mNone\u001b[39;00m:\n\u001b[1;32m    499\u001b[0m     \u001b[38;5;28mself\u001b[39m\u001b[38;5;241m.\u001b[39maxes\u001b[38;5;241m.\u001b[39mxaxis\u001b[38;5;241m.\u001b[39mupdate_units(x)\n",
      "File \u001b[0;32m~/mambaforge/envs/branchynet/lib/python3.10/site-packages/matplotlib/cbook/__init__.py:1690\u001b[0m, in \u001b[0;36mindex_of\u001b[0;34m(y)\u001b[0m\n\u001b[1;32m   1688\u001b[0m     \u001b[38;5;28;01mpass\u001b[39;00m\n\u001b[1;32m   1689\u001b[0m \u001b[38;5;28;01mtry\u001b[39;00m:\n\u001b[0;32m-> 1690\u001b[0m     y \u001b[38;5;241m=\u001b[39m \u001b[43m_check_1d\u001b[49m\u001b[43m(\u001b[49m\u001b[43my\u001b[49m\u001b[43m)\u001b[49m\n\u001b[1;32m   1691\u001b[0m \u001b[38;5;28;01mexcept\u001b[39;00m (np\u001b[38;5;241m.\u001b[39mVisibleDeprecationWarning, \u001b[38;5;167;01mValueError\u001b[39;00m):\n\u001b[1;32m   1692\u001b[0m     \u001b[38;5;66;03m# NumPy 1.19 will warn on ragged input, and we can't actually use it.\u001b[39;00m\n\u001b[1;32m   1693\u001b[0m     \u001b[38;5;28;01mpass\u001b[39;00m\n",
      "File \u001b[0;32m~/mambaforge/envs/branchynet/lib/python3.10/site-packages/matplotlib/cbook/__init__.py:1382\u001b[0m, in \u001b[0;36m_check_1d\u001b[0;34m(x)\u001b[0m\n\u001b[1;32m   1376\u001b[0m \u001b[38;5;66;03m# plot requires `shape` and `ndim`.  If passed an\u001b[39;00m\n\u001b[1;32m   1377\u001b[0m \u001b[38;5;66;03m# object that doesn't provide them, then force to numpy array.\u001b[39;00m\n\u001b[1;32m   1378\u001b[0m \u001b[38;5;66;03m# Note this will strip unit information.\u001b[39;00m\n\u001b[1;32m   1379\u001b[0m \u001b[38;5;28;01mif\u001b[39;00m (\u001b[38;5;129;01mnot\u001b[39;00m \u001b[38;5;28mhasattr\u001b[39m(x, \u001b[38;5;124m'\u001b[39m\u001b[38;5;124mshape\u001b[39m\u001b[38;5;124m'\u001b[39m) \u001b[38;5;129;01mor\u001b[39;00m\n\u001b[1;32m   1380\u001b[0m         \u001b[38;5;129;01mnot\u001b[39;00m \u001b[38;5;28mhasattr\u001b[39m(x, \u001b[38;5;124m'\u001b[39m\u001b[38;5;124mndim\u001b[39m\u001b[38;5;124m'\u001b[39m) \u001b[38;5;129;01mor\u001b[39;00m\n\u001b[1;32m   1381\u001b[0m         \u001b[38;5;28mlen\u001b[39m(x\u001b[38;5;241m.\u001b[39mshape) \u001b[38;5;241m<\u001b[39m \u001b[38;5;241m1\u001b[39m):\n\u001b[0;32m-> 1382\u001b[0m     \u001b[38;5;28;01mreturn\u001b[39;00m \u001b[43mnp\u001b[49m\u001b[38;5;241;43m.\u001b[39;49m\u001b[43matleast_1d\u001b[49m\u001b[43m(\u001b[49m\u001b[43mx\u001b[49m\u001b[43m)\u001b[49m\n\u001b[1;32m   1383\u001b[0m \u001b[38;5;28;01melse\u001b[39;00m:\n\u001b[1;32m   1384\u001b[0m     \u001b[38;5;28;01mreturn\u001b[39;00m x\n",
      "File \u001b[0;32m<__array_function__ internals>:200\u001b[0m, in \u001b[0;36matleast_1d\u001b[0;34m(*args, **kwargs)\u001b[0m\n",
      "File \u001b[0;32m~/.local/lib/python3.10/site-packages/numpy/core/shape_base.py:65\u001b[0m, in \u001b[0;36matleast_1d\u001b[0;34m(*arys)\u001b[0m\n\u001b[1;32m     63\u001b[0m res \u001b[38;5;241m=\u001b[39m []\n\u001b[1;32m     64\u001b[0m \u001b[38;5;28;01mfor\u001b[39;00m ary \u001b[38;5;129;01min\u001b[39;00m arys:\n\u001b[0;32m---> 65\u001b[0m     ary \u001b[38;5;241m=\u001b[39m \u001b[43masanyarray\u001b[49m\u001b[43m(\u001b[49m\u001b[43mary\u001b[49m\u001b[43m)\u001b[49m\n\u001b[1;32m     66\u001b[0m     \u001b[38;5;28;01mif\u001b[39;00m ary\u001b[38;5;241m.\u001b[39mndim \u001b[38;5;241m==\u001b[39m \u001b[38;5;241m0\u001b[39m:\n\u001b[1;32m     67\u001b[0m         result \u001b[38;5;241m=\u001b[39m ary\u001b[38;5;241m.\u001b[39mreshape(\u001b[38;5;241m1\u001b[39m)\n",
      "File \u001b[0;32m~/.local/lib/python3.10/site-packages/torch/_tensor.py:956\u001b[0m, in \u001b[0;36mTensor.__array__\u001b[0;34m(self, dtype)\u001b[0m\n\u001b[1;32m    954\u001b[0m     \u001b[38;5;28;01mreturn\u001b[39;00m handle_torch_function(Tensor\u001b[38;5;241m.\u001b[39m__array__, (\u001b[38;5;28mself\u001b[39m,), \u001b[38;5;28mself\u001b[39m, dtype\u001b[38;5;241m=\u001b[39mdtype)\n\u001b[1;32m    955\u001b[0m \u001b[38;5;28;01mif\u001b[39;00m dtype \u001b[38;5;129;01mis\u001b[39;00m \u001b[38;5;28;01mNone\u001b[39;00m:\n\u001b[0;32m--> 956\u001b[0m     \u001b[38;5;28;01mreturn\u001b[39;00m \u001b[38;5;28;43mself\u001b[39;49m\u001b[38;5;241;43m.\u001b[39;49m\u001b[43mnumpy\u001b[49m\u001b[43m(\u001b[49m\u001b[43m)\u001b[49m\n\u001b[1;32m    957\u001b[0m \u001b[38;5;28;01melse\u001b[39;00m:\n\u001b[1;32m    958\u001b[0m     \u001b[38;5;28;01mreturn\u001b[39;00m \u001b[38;5;28mself\u001b[39m\u001b[38;5;241m.\u001b[39mnumpy()\u001b[38;5;241m.\u001b[39mastype(dtype, copy\u001b[38;5;241m=\u001b[39m\u001b[38;5;28;01mFalse\u001b[39;00m)\n",
      "\u001b[0;31mRuntimeError\u001b[0m: Can't call numpy() on Tensor that requires grad. Use tensor.detach().numpy() instead."
     ]
    },
    {
     "data": {
      "image/png": "[encoded data removed]",
      "text/plain": [
       "<Figure size 640x480 with 1 Axes>"
      ]
     },
     "metadata": {},
     "output_type": "display_data"
    }
   ],
   "source": [
    "plt.plot(train_losses, label='training loss')\n",
    "plt.plot(test_losses, label='validation loss')\n",
    "plt.title('Loss at the end of each epoch')\n",
    "plt.legend();"
   ]
  },
  {
   "cell_type": "markdown",
   "metadata": {},
   "source": [
    "This shows some evidence of overfitting the training data."
   ]
  },
  {
   "cell_type": "code",
   "execution_count": 20,
   "metadata": {},
   "outputs": [
    {
     "data": {
      "image/png": "[encoded data removed]",
      "text/plain": [
       "<Figure size 432x288 with 1 Axes>"
      ]
     },
     "metadata": {
      "needs_background": "light"
     },
     "output_type": "display_data"
    }
   ],
   "source": [
    "plt.plot([t/600 for t in train_correct], label='training accuracy')\n",
    "plt.plot([t/100 for t in test_correct], label='validation accuracy')\n",
    "plt.title('Accuracy at the end of each epoch')\n",
    "plt.legend();"
   ]
  },
  {
   "cell_type": "markdown",
   "metadata": {},
   "source": [
    "## Evaluate Test Data\n",
    "We retained the test scores during our training session:"
   ]
  },
  {
   "cell_type": "code",
   "execution_count": 21,
   "metadata": {},
   "outputs": [
    {
     "name": "stdout",
     "output_type": "stream",
     "text": [
      "[tensor(9439), tensor(9635), tensor(9666), tensor(9726), tensor(9746), tensor(9758), tensor(9737), tensor(9749), tensor(9746), tensor(9725)]\n",
      "\n",
      "Test accuracy: 97.250%\n"
     ]
    }
   ],
   "source": [
    "print(test_correct) # contains the results of all 10 epochs\n",
    "print()\n",
    "print(f'Test accuracy: {test_correct[-1].item()*100/10000:.3f}%') # print the most recent result as a percent"
   ]
  },
  {
   "cell_type": "markdown",
   "metadata": {},
   "source": [
    "However, we'd like to compare the predicted values to the ground truth (the y_test labels), so we'll run the test set through the trained model all at once."
   ]
  },
  {
   "cell_type": "code",
   "execution_count": 22,
   "metadata": {},
   "outputs": [],
   "source": [
    "# Extract the data all at once, not in batches\n",
    "test_load_all = DataLoader(test_data, batch_size=10000, shuffle=False)"
   ]
  },
  {
   "cell_type": "code",
   "execution_count": 23,
   "metadata": {},
   "outputs": [
    {
     "name": "stdout",
     "output_type": "stream",
     "text": [
      "Test accuracy: 9725/10000 =  97.250%\n"
     ]
    }
   ],
   "source": [
    "with torch.no_grad():\n",
    "    correct = 0\n",
    "    for X_test, y_test in test_load_all:\n",
    "        y_val = model(X_test.view(len(X_test), -1))  # pass in a flattened view of X_test\n",
    "        predicted = torch.max(y_val,1)[1]\n",
    "        correct += (predicted == y_test).sum()\n",
    "print(f'Test accuracy: {correct.item()}/{len(test_data)} = {correct.item()*100/(len(test_data)):7.3f}%')"
   ]
  },
  {
   "cell_type": "markdown",
   "metadata": {},
   "source": [
    "Not bad considering that a random guess gives only 10% accuracy!"
   ]
  },
  {
   "cell_type": "markdown",
   "metadata": {},
   "source": [
    "## Display the confusion matrix\n",
    "This uses scikit-learn, and the predicted values obtained above."
   ]
  },
  {
   "cell_type": "code",
   "execution_count": 24,
   "metadata": {},
   "outputs": [
    {
     "name": "stdout",
     "output_type": "stream",
     "text": [
      "[[   0    1    2    3    4    5    6    7    8    9]]\n",
      "\n",
      "[[ 968    0    1    0    1    2    5    0    4    1]\n",
      " [   0 1126    4    0    0    0    2    5    0    4]\n",
      " [   2    1 1007    4    3    0    0   10    5    0]\n",
      " [   1    0    5  985    0    2    1    3    4    7]\n",
      " [   1    0    1    0  962    1    3    1    3   12]\n",
      " [   2    1    1   13    0  882   33    1   23   16]\n",
      " [   1    2    2    0    5    1  913    0    1    0]\n",
      " [   1    1    5    5    3    2    0 1003    7    7]\n",
      " [   2    4    6    2    1    2    1    1  925    8]\n",
      " [   2    0    0    1    7    0    0    4    2  954]]\n"
     ]
    }
   ],
   "source": [
    "# print a row of values for reference\n",
    "np.set_printoptions(formatter=dict(int=lambda x: f'{x:4}'))\n",
    "print(np.arange(10).reshape(1,10))\n",
    "print()\n",
    "\n",
    "# print the confusion matrix\n",
    "print(confusion_matrix(predicted.view(-1), y_test.view(-1)))"
   ]
  },
  {
   "cell_type": "markdown",
   "metadata": {},
   "source": [
    "This shows that the model had the greatest success with ones, twos and sevens, and the lowest with fives, sixes and eights."
   ]
  },
  {
   "cell_type": "markdown",
   "metadata": {},
   "source": [
    "## Examine the misses\n",
    "We can track the index positions of \"missed\" predictions, and extract the corresponding image and label. We'll do this in batches to save screen space."
   ]
  },
  {
   "cell_type": "code",
   "execution_count": 25,
   "metadata": {},
   "outputs": [
    {
     "data": {
      "text/plain": [
       "275"
      ]
     },
     "execution_count": 25,
     "metadata": {},
     "output_type": "execute_result"
    }
   ],
   "source": [
    "misses = np.array([])\n",
    "for i in range(len(predicted.view(-1))):\n",
    "    if predicted[i] != y_test[i]:\n",
    "        misses = np.append(misses,i).astype('int64')\n",
    "        \n",
    "# Display the number of misses\n",
    "len(misses)"
   ]
  },
  {
   "cell_type": "code",
   "execution_count": 26,
   "metadata": {},
   "outputs": [
    {
     "data": {
      "text/plain": [
       "array([  61,   62,   81,  104,  115,  151,  193,  217,  247,  259],\n",
       "      dtype=int64)"
      ]
     },
     "execution_count": 26,
     "metadata": {},
     "output_type": "execute_result"
    }
   ],
   "source": [
    "# Display the first 10 index positions\n",
    "misses[:10]"
   ]
  },
  {
   "cell_type": "code",
   "execution_count": 27,
   "metadata": {},
   "outputs": [],
   "source": [
    "# Set up an iterator to feed batched rows\n",
    "r = 12   # row size\n",
    "row = iter(np.array_split(misses,len(misses)//r+1))"
   ]
  },
  {
   "cell_type": "markdown",
   "metadata": {},
   "source": [
    "Now that everything is set up, run and re-run the cell below to view all of the missed predictions.<br>\n",
    "Use <kbd>Ctrl+Enter</kbd> to remain on the cell between runs. You'll see a <tt>StopIteration</tt> once all the misses have been seen."
   ]
  },
  {
   "cell_type": "code",
   "execution_count": 28,
   "metadata": {},
   "outputs": [
    {
     "name": "stdout",
     "output_type": "stream",
     "text": [
      "Index: [  61   62   81  104  115  151  193  217  247  259  264  320]\n",
      "Label: [   8    9    6    9    4    9    9    6    4    6    9    9]\n",
      "Guess: [   2    5    5    5    9    8    8    5    6    0    4    8]\n"
     ]
    },
    {
     "data": {
      "image/png": "[encoded data removed]",
      "text/plain": [
       "<Figure size 720x288 with 1 Axes>"
      ]
     },
     "metadata": {
      "needs_background": "light"
     },
     "output_type": "display_data"
    }
   ],
   "source": [
    "nextrow = next(row)\n",
    "print(\"Index:\", nextrow)\n",
    "print(\"Label:\", y_test.index_select(0,torch.tensor(nextrow)).numpy())\n",
    "print(\"Guess:\", predicted.index_select(0,torch.tensor(nextrow)).numpy())\n",
    "\n",
    "images = X_test.index_select(0,torch.tensor(nextrow))\n",
    "im = make_grid(images, nrow=r)\n",
    "plt.figure(figsize=(10,4))\n",
    "plt.imshow(np.transpose(im.numpy(), (1, 2, 0)));"
   ]
  },
  {
   "cell_type": "markdown",
   "metadata": {},
   "source": [
    "## Great job!"
   ]
  }
 ],
 "metadata": {
  "kernelspec": {
   "display_name": "Python 3 (ipykernel)",
   "language": "python",
   "name": "python3"
  },
  "language_info": {
   "codemirror_mode": {
    "name": "ipython",
    "version": 3
   },
   "file_extension": ".py",
   "mimetype": "text/x-python",
   "name": "python",
   "nbconvert_exporter": "python",
   "pygments_lexer": "ipython3",
   "version": "3.10.9"
  }
 },
 "nbformat": 4,
 "nbformat_minor": 2
}
