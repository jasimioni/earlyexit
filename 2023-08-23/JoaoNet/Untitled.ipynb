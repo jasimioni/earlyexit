{
 "cells": [
  {
   "cell_type": "code",
   "execution_count": 1,
   "id": "53ca70ad",
   "metadata": {},
   "outputs": [],
   "source": [
    "import sys\n",
    "sys.path.append('..')\n",
    "\n",
    "from itertools import chain\n",
    "\n",
    "from models.JoaoNet import *\n",
    "from utils.functions import *\n",
    "from datetime import datetime\n",
    "from torch.utils.tensorboard import SummaryWriter\n",
    "from torchinfo import summary\n",
    "\n",
    "import torch\n",
    "import torch.nn as nn\n",
    "import torch.optim as optim\n",
    "from torch.utils.data import DataLoader, Dataset, TensorDataset\n",
    "from torchvision import datasets, transforms\n",
    "import torchvision\n",
    "import matplotlib\n",
    "\n",
    "import os\n",
    "import numpy as np\n",
    "from datetime import datetime as dt\n",
    "import time"
   ]
  },
  {
   "cell_type": "code",
   "execution_count": 2,
   "id": "a820eb6d",
   "metadata": {},
   "outputs": [
    {
     "name": "stdout",
     "output_type": "stream",
     "text": [
      "cuda\n"
     ]
    }
   ],
   "source": [
    "device = torch.device('cuda' if torch.cuda.is_available() else 'cpu')\n",
    "print(device)\n",
    "\n",
    "transform = transforms.ToTensor()\n",
    "\n",
    "batch_size = 600\n",
    "\n",
    "model = JoaoNetWithExitsCIFAR10().to(device)\n",
    "# model = JoaoNetCIFAR10().to(device)"
   ]
  },
  {
   "cell_type": "code",
   "execution_count": 3,
   "id": "4d93ef8b",
   "metadata": {},
   "outputs": [
    {
     "name": "stdout",
     "output_type": "stream",
     "text": [
      "Files already downloaded and verified\n",
      "Files already downloaded and verified\n"
     ]
    }
   ],
   "source": [
    "train_data   = datasets.CIFAR10(root='../data', train=True, download=True, transform=transform)\n",
    "test_data    = datasets.CIFAR10(root='../data', train=False, download=True, transform=transform)\n",
    "train_loader = DataLoader(train_data, batch_size=batch_size, shuffle=True)\n",
    "test_loader  = DataLoader(test_data, batch_size=batch_size, shuffle=False)"
   ]
  },
  {
   "cell_type": "code",
   "execution_count": 4,
   "id": "cda1a3e0",
   "metadata": {},
   "outputs": [
    {
     "data": {
      "text/plain": [
       "<All keys matched successfully>"
      ]
     },
     "execution_count": 4,
     "metadata": {},
     "output_type": "execute_result"
    }
   ],
   "source": [
    "# checkpoint = torch.load('saves/JoaoNetCIFAR10_CrossEntropy_2023-04-06')\n",
    "checkpoint = torch.load('saves/JoaoNetWithExitsCIFAR10_all_CrossEntropy_2023-04-06')\n",
    "model.load_state_dict(checkpoint['model_state_dict'])"
   ]
  },
  {
   "cell_type": "code",
   "execution_count": 68,
   "id": "d9995524",
   "metadata": {},
   "outputs": [
    {
     "name": "stdout",
     "output_type": "stream",
     "text": [
      "Thresholds: 0.8 | 0.8 | 0\n",
      "Mean times per exit: 0.3629 ms | 0.5039 ms | 0.7571 ms\n",
      "Accuracies per exit: 68.3717%  | 83.0517%  | 97.675% \n",
      "Rate of exit chosen: 31.70% | 33.67% | 34.63%\n",
      "Accuracy per exit: 93.37% | 93.78% | 95.48%\n",
      "Overall Accuracy: 94.24%\n",
      "Mean time: 0.5469 ms\n"
     ]
    }
   ],
   "source": [
    "thresholds = [ 0.8, 0.8, 0 ]\n",
    "\n",
    "model.eval()\n",
    "\n",
    "with torch.no_grad():\n",
    "    if hasattr(model, 'exits'):\n",
    "        model.set_measurement_mode()\n",
    "        total = 0\n",
    "        correct = 0\n",
    "        times = { 'bb' : [0, 0, 0], 'ex' : [0, 0, 0] }\n",
    "        correct = [0, 0, 0]\n",
    "        correct_exit = [0, 0, 0]\n",
    "        chosen_exit  = [0, 0, 0]\n",
    "        for i, (X, y) in enumerate(chain(train_loader, test_loader)):\n",
    "            X = X.to(device)\n",
    "            y = y.to(device)\n",
    "   \n",
    "            results = model(X)\n",
    "            c_results = []\n",
    "                        \n",
    "            for exit, result in enumerate(results):\n",
    "                times['bb'][exit] += result[1] * len(result[0])\n",
    "                times['ex'][exit] += result[2] * len(result[0])\n",
    "               \n",
    "                cnf, predicted = torch.max(nn.functional.softmax(result[0], dim=-1), 1)\n",
    "                \n",
    "                c_results.append([cnf, predicted])\n",
    "                          \n",
    "                correct[exit] += (predicted == y).sum()\n",
    "                \n",
    "            for i in range(len(y)):\n",
    "                for exit, res in enumerate(c_results):\n",
    "                    if res[0][i] > thresholds[exit]:\n",
    "                        chosen_exit[exit] += 1\n",
    "                        if res[1][i] == y[i]:\n",
    "                            correct_exit[exit] += 1\n",
    "                        break\n",
    "            \n",
    "            total += len(y)\n",
    "            \n",
    "        mean_time = []\n",
    "        mean_time.append((times['bb'][0] + times['ex'][0])/total)\n",
    "        mean_time.append((times['bb'][0] + times['bb'][1] + times['ex'][1])/total)\n",
    "        mean_time.append((times['bb'][0] + times['bb'][1] + times['bb'][2] + times['ex'][2])/total)\n",
    "        mean_times = ' | '.join([ f'{1000*mt:.4} ms' for mt in mean_time ])\n",
    "        accuracies = ' | '.join([ f'{100*acc/total:.6}% ' for acc in correct ])\n",
    "        chosen_exits  = ' | '.join([ f'{100*x/total:.2f}%' for x in chosen_exit ])\n",
    "        exit_accuracy = ' | '.join([ f'{100*correct_exit[i]/chosen_exit[i]:.2f}%' for i in range(len(chosen_exit))])\n",
    "        thresholds_str = ' | '.join([ f'{t}' for t in thresholds ])\n",
    "        \n",
    "        t_mean_time = 0\n",
    "        for c, mt in zip(chosen_exit, mean_time):\n",
    "            t_mean_time += c * mt\n",
    "        t_mean_time /= total\n",
    "\n",
    "        print(f'Thresholds: {thresholds_str}')\n",
    "        print(f'Mean times per exit: {mean_times}')\n",
    "        print(f'Accuracies per exit (for all dataset): {accuracies}')\n",
    "        print(f'Rate of exit chosen: {chosen_exits}')\n",
    "        print(f'Accuracy per exit (when chosen): {exit_accuracy}')\n",
    "        print(f'Overall Accuracy: {100 * sum(correct_exit)/total:.2f}%')        \n",
    "        print(f'Mean time: {1000 * t_mean_time:.4f} ms')\n",
    "    else:\n",
    "        total = 0\n",
    "        correct = 0\n",
    "        time_total = 0\n",
    "   \n",
    "        for i, (X, y) in enumerate(chain(train_loader, test_loader)):\n",
    "            X = X.to(device)\n",
    "            y = y.to(device)\n",
    "\n",
    "            st = time.process_time()   \n",
    "            y_pred = model(X)\n",
    "            ed = time.process_time()    \n",
    "            \n",
    "            time_total += ( ed - st ) * len(y_pred)\n",
    "            \n",
    "            predicted = torch.max(y_pred, 1)[1]\n",
    "            \n",
    "            correct += (predicted == y).sum()\n",
    "            total   += len(y_pred)\n",
    "    \n",
    "        \n",
    "        print(f'Total: {total}, Correct: {correct}, Accuracy: {100 * correct/total:.2f}, Time: {1000*time_total/total:.6f} ms')"
   ]
  },
  {
   "cell_type": "code",
   "execution_count": 62,
   "id": "0fafc70e",
   "metadata": {},
   "outputs": [
    {
     "name": "stdout",
     "output_type": "stream",
     "text": [
      "Rate of exit chosen: 31.70% | 33.67% | 34.63%\n",
      "Accuracy per exit: 93.37% | 93.78% | 95.48%\n",
      "Overall Accuracy: 94.24%\n"
     ]
    }
   ],
   "source": [
    "chosen_exits  = ' | '.join([ f'{100*x/total:.2f}%' for x in chosen_exit ])\n",
    "exit_accuracy = ' | '.join([ f'{100*correct_exit[i]/chosen_exit[i]:.2f}%' for i in range(len(chosen_exit))])\n",
    "print(f'Rate of exit chosen: {chosen_exits}')\n",
    "print(f'Accuracy per exit: {exit_accuracy}')\n",
    "print(f'Overall Accuracy: {100 * sum(correct_exit)/total:.2f}%')"
   ]
  },
  {
   "cell_type": "code",
   "execution_count": null,
   "id": "7efeb7c5",
   "metadata": {},
   "outputs": [],
   "source": [
    "print(y_pred.shape)\n",
    "print(y_pred[0])\n",
    "print(len(y_pred))\n",
    "\n",
    "predicted = torch.max(y_pred, 1)[1]\n",
    "correct = (predicted == y).sum()\n",
    "\n",
    "print(correct)"
   ]
  },
  {
   "cell_type": "code",
   "execution_count": null,
   "id": "2f298117",
   "metadata": {},
   "outputs": [],
   "source": [
    "' '.join([ f'{100*acc/total:.6}% ' for acc in correct ])   \n",
    "\n",
    "print(' '.join([ f'{100 * p:.4f}' for p in y_perc[0] ]))\n",
    "\n",
    "max = torch.max(y_perc, 1)\n",
    "\n",
    "print(max[0][1])\n",
    "print(max[1][1])\n",
    "print(y[1])"
   ]
  }
 ],
 "metadata": {
  "kernelspec": {
   "display_name": "Python 3 (ipykernel)",
   "language": "python",
   "name": "python3"
  },
  "language_info": {
   "codemirror_mode": {
    "name": "ipython",
    "version": 3
   },
   "file_extension": ".py",
   "mimetype": "text/x-python",
   "name": "python",
   "nbconvert_exporter": "python",
   "pygments_lexer": "ipython3",
   "version": "3.10.9"
  }
 },
 "nbformat": 4,
 "nbformat_minor": 5
}
