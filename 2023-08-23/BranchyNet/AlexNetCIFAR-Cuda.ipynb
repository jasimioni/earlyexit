{
 "cells": [
  {
   "cell_type": "code",
   "execution_count": 4,
   "id": "26d6aa1b",
   "metadata": {},
   "outputs": [
    {
     "name": "stdout",
     "output_type": "stream",
     "text": [
      "cuda\n",
      "Files already downloaded and verified\n",
      "Files already downloaded and verified\n",
      "\n",
      "Loss: ['2.57600379', '2.51636219', '2.34283996'] - Accuracy Test: ['6.97%', '12.79%', '9.68%']\n",
      "\n"
     ]
    }
   ],
   "source": [
    "from models.AlexNet import AlexNetWithExistsCIFAR10\n",
    "from utils.functions import *\n",
    "\n",
    "import torch\n",
    "import torch.nn as nn\n",
    "import torch.optim as optim\n",
    "from torch.utils.data import DataLoader, Dataset, TensorDataset\n",
    "from torchvision import datasets, transforms\n",
    "import torchvision\n",
    "import matplotlib\n",
    "\n",
    "import os\n",
    "import numpy as np\n",
    "from datetime import datetime as dt\n",
    "\n",
    "device = torch.device('cuda' if torch.cuda.is_available() else 'cpu')\n",
    "print(device)\n",
    "\n",
    "transform = transforms.ToTensor()\n",
    "\n",
    "batch_size = 600\n",
    "\n",
    "train_data   = datasets.CIFAR10(root='../data', train=True, download=True, transform=transform)\n",
    "test_data    = datasets.CIFAR10(root='../data', train=False, download=True, transform=transform)\n",
    "train_loader = DataLoader(train_data, batch_size=batch_size, shuffle=True)\n",
    "test_loader  = DataLoader(test_data, batch_size=batch_size, shuffle=False)\n",
    "\n",
    "model = AlexNetWithExistsCIFAR10(exit_loss_weights=[20, 5, 1]).to(device)\n",
    "\n",
    "show_exits_stats(model, nn.CrossEntropyLoss(), test_loader, device)"
   ]
  },
  {
   "cell_type": "code",
   "execution_count": null,
   "id": "e70b19db",
   "metadata": {},
   "outputs": [],
   "source": []
  },
  {
   "cell_type": "code",
   "execution_count": 5,
   "id": "fbffb52b",
   "metadata": {},
   "outputs": [
    {
     "name": "stdout",
     "output_type": "stream",
     "text": [
      "Measuring\n"
     ]
    }
   ],
   "source": [
    "fast_inference_mode = model.fast_inference_mode\n",
    "measurement_mode = model.measurement_mode\n",
    "model.set_fast_inference_mode(False)\n",
    "model.set_measurement_mode(True)\n",
    " \n",
    "with torch.no_grad():\n",
    "    for b, (X_test, y_test) in enumerate(test_loader):\n",
    "        X_test = X_test.to(device)\n",
    "        y_test = y_test.to(device)\n",
    "\n",
    "        y_val = model(X_test)\n",
    "        \n",
    "        break\n",
    "            \n",
    "#            for exit, y_val_exit in enumerate(y_val):\n",
    "#                predicted = torch.max(y_val_exit.data, 1)[1]\n",
    "#                batch_corr = (predicted == y_test).sum()\n",
    "#                tst_cor[exit] += batch_corr            \n",
    "#\n",
    "\n",
    "model.set_fast_inference_mode(fast_inference_mode)\n",
    "model.set_measurement_mode(measurement_mode)"
   ]
  },
  {
   "cell_type": "code",
   "execution_count": 14,
   "id": "a74054c7",
   "metadata": {},
   "outputs": [
    {
     "name": "stdout",
     "output_type": "stream",
     "text": [
      "[0.0006191579999992314, 0.0005893510000003488]\n",
      "[0.0004157510000002418, 0.00028157199999867544]\n",
      "[0.0004035639999990792, 0.00023398000000085517]\n",
      "600\n"
     ]
    }
   ],
   "source": [
    "print(y_val[0][1:])\n",
    "print(y_val[1][1:])\n",
    "print(y_val[2][1:])\n",
    "\n",
    "print(len(y_val[0][0]))"
   ]
  },
  {
   "cell_type": "code",
   "execution_count": null,
   "id": "21bb13af",
   "metadata": {},
   "outputs": [],
   "source": [
    "show_exits_stats(model, nn.CrossEntropyLoss(), test_loader, device)"
   ]
  },
  {
   "cell_type": "code",
   "execution_count": null,
   "id": "4dc2ecc8",
   "metadata": {},
   "outputs": [],
   "source": [
    "train_exit(model, 0, train_loader=train_loader, test_loader=test_loader, device=device)"
   ]
  },
  {
   "cell_type": "code",
   "execution_count": null,
   "id": "77fbde45",
   "metadata": {},
   "outputs": [],
   "source": [
    "train_model(model, train_loader=train_loader, test_loader=test_loader, device=device)"
   ]
  }
 ],
 "metadata": {
  "kernelspec": {
   "display_name": "Python 3 (ipykernel)",
   "language": "python",
   "name": "python3"
  },
  "language_info": {
   "codemirror_mode": {
    "name": "ipython",
    "version": 3
   },
   "file_extension": ".py",
   "mimetype": "text/x-python",
   "name": "python",
   "nbconvert_exporter": "python",
   "pygments_lexer": "ipython3",
   "version": "3.10.9"
  }
 },
 "nbformat": 4,
 "nbformat_minor": 5
}
