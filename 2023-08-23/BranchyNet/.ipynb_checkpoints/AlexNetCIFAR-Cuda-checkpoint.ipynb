{
 "cells": [
  {
   "cell_type": "code",
   "execution_count": 1,
   "id": "26d6aa1b",
   "metadata": {},
   "outputs": [
    {
     "name": "stdout",
     "output_type": "stream",
     "text": [
      "cuda\n"
     ]
    }
   ],
   "source": [
    "from models.AlexNet import AlexNetWithExistsCIFAR10\n",
    "from utils.functions import *\n",
    "\n",
    "import torch\n",
    "import torch.nn as nn\n",
    "import torch.optim as optim\n",
    "from torch.utils.data import DataLoader, Dataset, TensorDataset\n",
    "from torchvision import datasets, transforms\n",
    "import torchvision\n",
    "import matplotlib\n",
    "\n",
    "import os\n",
    "import numpy as np\n",
    "from datetime import datetime as dt\n",
    "\n",
    "device = torch.device('cuda' if torch.cuda.is_available() else 'cpu')\n",
    "print(device)"
   ]
  },
  {
   "cell_type": "code",
   "execution_count": 2,
   "id": "dbe4ed30",
   "metadata": {},
   "outputs": [
    {
     "name": "stdout",
     "output_type": "stream",
     "text": [
      "Files already downloaded and verified\n",
      "Files already downloaded and verified\n"
     ]
    }
   ],
   "source": [
    "transform = transforms.ToTensor()\n",
    "\n",
    "batch_size = 600\n",
    "\n",
    "train_data   = datasets.CIFAR10(root='../data', train=True, download=True, transform=transform)\n",
    "test_data    = datasets.CIFAR10(root='../data', train=False, download=True, transform=transform)\n",
    "train_loader = DataLoader(train_data, batch_size=batch_size, shuffle=True)\n",
    "test_loader  = DataLoader(test_data, batch_size=batch_size, shuffle=False)"
   ]
  },
  {
   "cell_type": "code",
   "execution_count": 3,
   "id": "04c415ff",
   "metadata": {},
   "outputs": [],
   "source": [
    "model = AlexNetWithExistsCIFAR10(exit_loss_weights=[20, 5, 1]).to(device)"
   ]
  },
  {
   "cell_type": "code",
   "execution_count": 4,
   "id": "04a7b2d9",
   "metadata": {},
   "outputs": [
    {
     "name": "stdout",
     "output_type": "stream",
     "text": [
      "Epoch:  0 Batch:   1 Loss: 2.5511 Accuracy Train: 10.000%\n",
      "Epoch:  0 Batch:  11 Loss: 1.6960 Accuracy Train: 27.758%\n",
      "Epoch:  0 Batch:  21 Loss: 1.5883 Accuracy Train: 33.143%\n",
      "Epoch:  0 Batch:  31 Loss: 1.5053 Accuracy Train: 36.661%\n",
      "Epoch:  0 Batch:  41 Loss: 1.4153 Accuracy Train: 39.211%\n",
      "Epoch:  0 Batch:  51 Loss: 1.4132 Accuracy Train: 41.536%\n",
      "Epoch:  0 Batch:  61 Loss: 1.2315 Accuracy Train: 43.596%\n",
      "Epoch:  0 Batch:  71 Loss: 1.2288 Accuracy Train: 45.486%\n",
      "Epoch:  0 Batch:  81 Loss: 1.1650 Accuracy Train: 47.181%\n",
      "\n",
      "Loss: 1.1967 - Accuracy Test: 58.860\n",
      "\n",
      "Epoch:  1 Batch:   1 Loss: 1.0820 Accuracy Train: 61.333%\n",
      "Epoch:  1 Batch:  11 Loss: 1.0906 Accuracy Train: 61.515%\n",
      "Epoch:  1 Batch:  21 Loss: 0.9578 Accuracy Train: 62.556%\n",
      "Epoch:  1 Batch:  31 Loss: 0.9764 Accuracy Train: 63.634%\n",
      "Epoch:  1 Batch:  41 Loss: 0.9378 Accuracy Train: 64.240%\n",
      "Epoch:  1 Batch:  51 Loss: 0.8464 Accuracy Train: 65.252%\n",
      "Epoch:  1 Batch:  61 Loss: 0.7991 Accuracy Train: 66.071%\n",
      "Epoch:  1 Batch:  71 Loss: 0.8449 Accuracy Train: 66.876%\n",
      "Epoch:  1 Batch:  81 Loss: 0.8685 Accuracy Train: 67.333%\n",
      "\n",
      "Loss: 0.8615 - Accuracy Test: 69.930\n",
      "\n",
      "Epoch:  2 Batch:   1 Loss: 0.8306 Accuracy Train: 70.667%\n",
      "Epoch:  2 Batch:  11 Loss: 0.7198 Accuracy Train: 73.379%\n",
      "Epoch:  2 Batch:  21 Loss: 0.7101 Accuracy Train: 73.937%\n",
      "Epoch:  2 Batch:  31 Loss: 0.7045 Accuracy Train: 74.075%\n",
      "Epoch:  2 Batch:  41 Loss: 0.7082 Accuracy Train: 74.354%\n",
      "Epoch:  2 Batch:  51 Loss: 0.6511 Accuracy Train: 74.948%\n",
      "Epoch:  2 Batch:  61 Loss: 0.6938 Accuracy Train: 75.238%\n",
      "Epoch:  2 Batch:  71 Loss: 0.6216 Accuracy Train: 75.516%\n",
      "Epoch:  2 Batch:  81 Loss: 0.6427 Accuracy Train: 75.788%\n",
      "\n",
      "Loss: 0.7523 - Accuracy Test: 74.330\n",
      "\n",
      "Epoch:  3 Batch:   1 Loss: 0.6119 Accuracy Train: 78.167%\n",
      "Epoch:  3 Batch:  11 Loss: 0.5399 Accuracy Train: 79.591%\n",
      "Epoch:  3 Batch:  21 Loss: 0.6125 Accuracy Train: 79.841%\n",
      "Epoch:  3 Batch:  31 Loss: 0.5769 Accuracy Train: 79.774%\n",
      "Epoch:  3 Batch:  41 Loss: 0.5556 Accuracy Train: 79.846%\n",
      "Epoch:  3 Batch:  51 Loss: 0.5782 Accuracy Train: 80.046%\n",
      "Epoch:  3 Batch:  61 Loss: 0.6219 Accuracy Train: 79.874%\n",
      "Epoch:  3 Batch:  71 Loss: 0.5507 Accuracy Train: 79.878%\n",
      "Epoch:  3 Batch:  81 Loss: 0.5482 Accuracy Train: 79.922%\n",
      "\n",
      "Loss: 0.6184 - Accuracy Test: 78.650\n",
      "\n",
      "Epoch:  4 Batch:   1 Loss: 0.5158 Accuracy Train: 83.000%\n",
      "Epoch:  4 Batch:  11 Loss: 0.4351 Accuracy Train: 83.758%\n",
      "Epoch:  4 Batch:  21 Loss: 0.4500 Accuracy Train: 83.532%\n",
      "Epoch:  4 Batch:  31 Loss: 0.5062 Accuracy Train: 83.747%\n",
      "Epoch:  4 Batch:  41 Loss: 0.4463 Accuracy Train: 83.630%\n",
      "Epoch:  4 Batch:  51 Loss: 0.4566 Accuracy Train: 83.627%\n",
      "Epoch:  4 Batch:  61 Loss: 0.4823 Accuracy Train: 83.628%\n",
      "Epoch:  4 Batch:  71 Loss: 0.5057 Accuracy Train: 83.688%\n",
      "Epoch:  4 Batch:  81 Loss: 0.4131 Accuracy Train: 83.638%\n",
      "\n",
      "Loss: 0.6354 - Accuracy Test: 79.430\n",
      "\n",
      "\n",
      "Duration: 63 seconds\n"
     ]
    }
   ],
   "source": [
    "train_exit(model, 1, train_loader=train_loader, test_loader=test_loader, device=device)"
   ]
  },
  {
   "cell_type": "code",
   "execution_count": 5,
   "id": "1445255a",
   "metadata": {},
   "outputs": [
    {
     "name": "stdout",
     "output_type": "stream",
     "text": [
      "Epoch:  0 Batch:   1 Loss: ['52.1254', '1.9529', '2.3320'] Accuracy Train: ['10.3%', '87.2%', '9.5%']%\n",
      "Epoch:  0 Batch:  11 Loss: ['31.2906', '3.1428', '1.3727'] Accuracy Train: ['34.7%', '75.8%', '34.2%']%\n",
      "Epoch:  0 Batch:  21 Loss: ['26.6358', '2.5812', '1.0876'] Accuracy Train: ['41.5%', '79.1%', '44.3%']%\n",
      "Epoch:  0 Batch:  31 Loss: ['25.2078', '2.1386', '0.9219'] Accuracy Train: ['45.7%', '80.7%', '50.0%']%\n",
      "Epoch:  0 Batch:  41 Loss: ['22.2174', '1.9107', '0.8734'] Accuracy Train: ['49.1%', '82.1%', '54.3%']%\n",
      "Epoch:  0 Batch:  51 Loss: ['21.8312', '1.9298', '0.7878'] Accuracy Train: ['51.1%', '82.7%', '57.4%']%\n",
      "Epoch:  0 Batch:  61 Loss: ['21.5710', '2.2113', '0.7944'] Accuracy Train: ['53.1%', '83.1%', '59.7%']%\n",
      "Epoch:  0 Batch:  71 Loss: ['19.9902', '2.2862', '0.8928'] Accuracy Train: ['54.5%', '83.4%', '61.4%']%\n",
      "Epoch:  0 Batch:  81 Loss: ['19.0716', '1.9403', '0.7105'] Accuracy Train: ['55.8%', '83.8%', '62.9%']%\n",
      "\n",
      "Loss: ['0.97406775', '0.60584795', '0.86107618'] - Accuracy Test: ['65.47', '81.24', '72.92']\n",
      "\n",
      "Epoch:  1 Batch:   1 Loss: ['17.5710', '1.5586', '0.6468'] Accuracy Train: ['72.3%', '90.2%', '78.7%']%\n",
      "Epoch:  1 Batch:  11 Loss: ['18.6890', '1.9049', '0.7368'] Accuracy Train: ['67.6%', '88.8%', '75.9%']%\n",
      "Epoch:  1 Batch:  21 Loss: ['19.7506', '1.7284', '0.6829'] Accuracy Train: ['68.6%', '88.8%', '76.6%']%\n",
      "Epoch:  1 Batch:  31 Loss: ['16.3720', '1.5771', '0.6145'] Accuracy Train: ['69.4%', '88.9%', '77.3%']%\n",
      "Epoch:  1 Batch:  41 Loss: ['17.2002', '1.9706', '0.6452'] Accuracy Train: ['69.9%', '88.7%', '77.5%']%\n",
      "Epoch:  1 Batch:  51 Loss: ['16.1322', '1.5922', '0.6385'] Accuracy Train: ['70.0%', '88.7%', '77.7%']%\n",
      "Epoch:  1 Batch:  61 Loss: ['15.5881', '1.7703', '0.6694'] Accuracy Train: ['70.2%', '88.6%', '77.9%']%\n",
      "Epoch:  1 Batch:  71 Loss: ['16.1074', '1.6434', '0.6192'] Accuracy Train: ['70.6%', '88.4%', '78.0%']%\n",
      "Epoch:  1 Batch:  81 Loss: ['16.6580', '1.9096', '0.6867'] Accuracy Train: ['71.0%', '88.4%', '78.1%']%\n",
      "\n",
      "Loss: ['0.80953020', '0.50491774', '0.68657440'] - Accuracy Test: ['72.06', '82.24', '77.49']\n",
      "\n",
      "Epoch:  2 Batch:   1 Loss: ['14.7706', '1.2324', '0.5491'] Accuracy Train: ['74.3%', '94.2%', '80.8%']%\n",
      "Epoch:  2 Batch:  11 Loss: ['13.8111', '1.1749', '0.5410'] Accuracy Train: ['76.1%', '91.9%', '81.0%']%\n",
      "Epoch:  2 Batch:  21 Loss: ['15.6467', '1.3431', '0.5792'] Accuracy Train: ['76.2%', '91.9%', '81.2%']%\n",
      "Epoch:  2 Batch:  31 Loss: ['14.9763', '1.6983', '0.6131'] Accuracy Train: ['76.2%', '91.5%', '81.5%']%\n",
      "Epoch:  2 Batch:  41 Loss: ['13.7025', '1.3264', '0.4793'] Accuracy Train: ['75.9%', '91.3%', '81.5%']%\n",
      "Epoch:  2 Batch:  51 Loss: ['14.4961', '1.4584', '0.5660'] Accuracy Train: ['76.0%', '91.1%', '81.6%']%\n",
      "Epoch:  2 Batch:  61 Loss: ['12.9623', '1.2925', '0.5123'] Accuracy Train: ['76.2%', '91.1%', '81.9%']%\n",
      "Epoch:  2 Batch:  71 Loss: ['12.4614', '1.1610', '0.4559'] Accuracy Train: ['76.2%', '91.0%', '81.9%']%\n",
      "Epoch:  2 Batch:  81 Loss: ['14.7228', '1.5339', '0.4969'] Accuracy Train: ['76.3%', '91.0%', '81.9%']%\n",
      "\n",
      "Loss: ['0.78338099', '0.51014972', '0.75247514'] - Accuracy Test: ['74.71', '82.90', '79.12']\n",
      "\n",
      "Epoch:  3 Batch:   1 Loss: ['11.3319', '0.9937', '0.4116'] Accuracy Train: ['82.0%', '93.2%', '86.7%']%\n",
      "Epoch:  3 Batch:  11 Loss: ['12.2193', '0.9745', '0.4808'] Accuracy Train: ['79.6%', '92.8%', '84.0%']%\n",
      "Epoch:  3 Batch:  21 Loss: ['11.9485', '1.0403', '0.4548'] Accuracy Train: ['79.6%', '93.0%', '84.3%']%\n",
      "Epoch:  3 Batch:  31 Loss: ['11.9705', '1.0625', '0.4328'] Accuracy Train: ['79.3%', '92.8%', '84.3%']%\n",
      "Epoch:  3 Batch:  41 Loss: ['10.7081', '0.9738', '0.4269'] Accuracy Train: ['79.3%', '92.7%', '84.3%']%\n",
      "Epoch:  3 Batch:  51 Loss: ['12.1910', '1.1365', '0.4705'] Accuracy Train: ['79.5%', '92.7%', '84.5%']%\n",
      "Epoch:  3 Batch:  61 Loss: ['11.1386', '1.0381', '0.3906'] Accuracy Train: ['79.7%', '92.7%', '84.6%']%\n",
      "Epoch:  3 Batch:  71 Loss: ['10.6805', '1.0695', '0.4481'] Accuracy Train: ['79.9%', '92.7%', '84.6%']%\n",
      "Epoch:  3 Batch:  81 Loss: ['12.1065', '1.3278', '0.5191'] Accuracy Train: ['79.9%', '92.6%', '84.6%']%\n",
      "\n",
      "Loss: ['0.71072531', '0.55188823', '0.62740612'] - Accuracy Test: ['76.04', '82.32', '80.61']\n",
      "\n",
      "Epoch:  4 Batch:   1 Loss: ['10.4624', '0.9236', '0.3870'] Accuracy Train: ['81.2%', '93.2%', '87.2%']%\n",
      "Epoch:  4 Batch:  11 Loss: ['12.1340', '0.9304', '0.4101'] Accuracy Train: ['82.4%', '94.4%', '86.5%']%\n",
      "Epoch:  4 Batch:  21 Loss: ['10.3804', '0.7572', '0.3721'] Accuracy Train: ['83.0%', '94.8%', '87.0%']%\n",
      "Epoch:  4 Batch:  31 Loss: ['9.7338', '0.6924', '0.3504'] Accuracy Train: ['83.0%', '95.1%', '87.1%']%\n",
      "Epoch:  4 Batch:  41 Loss: ['12.0329', '0.8705', '0.4026'] Accuracy Train: ['82.9%', '95.1%', '87.2%']%\n",
      "Epoch:  4 Batch:  51 Loss: ['9.7544', '0.7675', '0.3727'] Accuracy Train: ['82.9%', '95.2%', '87.2%']%\n",
      "Epoch:  4 Batch:  61 Loss: ['10.0274', '0.7886', '0.3178'] Accuracy Train: ['82.8%', '95.0%', '87.1%']%\n",
      "Epoch:  4 Batch:  71 Loss: ['11.7442', '0.8895', '0.4183'] Accuracy Train: ['82.7%', '95.0%', '87.3%']%\n",
      "Epoch:  4 Batch:  81 Loss: ['11.2780', '0.8827', '0.3887'] Accuracy Train: ['82.5%', '94.9%', '87.1%']%\n",
      "\n",
      "Loss: ['0.66586304', '0.59467512', '0.63683301'] - Accuracy Test: ['77.66', '82.58', '79.89']\n",
      "\n",
      "\n",
      "Duration: 137 seconds\n"
     ]
    }
   ],
   "source": [
    "train_model(model, train_loader=train_loader, test_loader=test_loader, device=device)"
   ]
  }
 ],
 "metadata": {
  "kernelspec": {
   "display_name": "Python 3 (ipykernel)",
   "language": "python",
   "name": "python3"
  },
  "language_info": {
   "codemirror_mode": {
    "name": "ipython",
    "version": 3
   },
   "file_extension": ".py",
   "mimetype": "text/x-python",
   "name": "python",
   "nbconvert_exporter": "python",
   "pygments_lexer": "ipython3",
   "version": "3.10.9"
  }
 },
 "nbformat": 4,
 "nbformat_minor": 5
}
