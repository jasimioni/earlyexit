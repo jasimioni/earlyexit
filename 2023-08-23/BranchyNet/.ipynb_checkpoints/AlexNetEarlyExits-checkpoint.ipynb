{
 "cells": [
  {
   "cell_type": "code",
   "execution_count": 1,
   "id": "ae2bfa79",
   "metadata": {},
   "outputs": [],
   "source": [
    "from models.AlexNet import AlexNetMNIST, AlexNetMNISTee1, AlexNetMNISTee2, AlexNetWithExistsMNIST\n",
    "from models.Branchynet import Branchynet\n",
    "\n",
    "import torch\n",
    "import torch.nn as nn\n",
    "import torch.optim as optim\n",
    "from torch.utils.data import DataLoader, Dataset, TensorDataset\n",
    "from torchvision import datasets, transforms\n",
    "import torchvision\n",
    "import matplotlib\n",
    "\n",
    "import os\n",
    "import numpy as np\n",
    "from datetime import datetime as dt"
   ]
  },
  {
   "cell_type": "code",
   "execution_count": 2,
   "id": "eee824f9",
   "metadata": {},
   "outputs": [],
   "source": [
    "model = AlexNetWithExistsMNIST()"
   ]
  },
  {
   "cell_type": "code",
   "execution_count": null,
   "id": "0ab030f2",
   "metadata": {},
   "outputs": [],
   "source": [
    "print(model)"
   ]
  },
  {
   "cell_type": "code",
   "execution_count": 3,
   "id": "4908fe11",
   "metadata": {},
   "outputs": [],
   "source": [
    "transform = transforms.ToTensor()\n",
    "\n",
    "batch_size = 600\n",
    "\n",
    "train_data   = datasets.FashionMNIST(root='../data', train=True, download=True, transform=transform)\n",
    "test_data    = datasets.FashionMNIST(root='../data', train=False, download=True, transform=transform)\n",
    "train_loader = DataLoader(train_data, batch_size=batch_size, shuffle=True)\n",
    "test_loader  = DataLoader(test_data, batch_size=batch_size, shuffle=False)"
   ]
  },
  {
   "cell_type": "code",
   "execution_count": 4,
   "id": "eefaa325",
   "metadata": {},
   "outputs": [
    {
     "ename": "NameError",
     "evalue": "name 'opt' is not defined",
     "output_type": "error",
     "traceback": [
      "\u001b[0;31m---------------------------------------------------------------------------\u001b[0m",
      "\u001b[0;31mNameError\u001b[0m                                 Traceback (most recent call last)",
      "Cell \u001b[0;32mIn[4], line 18\u001b[0m\n\u001b[1;32m     13\u001b[0m results \u001b[38;5;241m=\u001b[39m model(xb)\n\u001b[1;32m     15\u001b[0m losses \u001b[38;5;241m=\u001b[39m [weighting \u001b[38;5;241m*\u001b[39m criterion(res, yb)\n\u001b[1;32m     16\u001b[0m                 \u001b[38;5;28;01mfor\u001b[39;00m weighting, res \u001b[38;5;129;01min\u001b[39;00m \u001b[38;5;28mzip\u001b[39m(model\u001b[38;5;241m.\u001b[39mexit_loss_weights,results)]\n\u001b[0;32m---> 18\u001b[0m \u001b[43mopt\u001b[49m\u001b[38;5;241m.\u001b[39mzero_grad()\n\u001b[1;32m     19\u001b[0m \u001b[38;5;28;01mfor\u001b[39;00m loss \u001b[38;5;129;01min\u001b[39;00m losses[:\u001b[38;5;241m-\u001b[39m\u001b[38;5;241m1\u001b[39m]:\n\u001b[1;32m     20\u001b[0m     loss\u001b[38;5;241m.\u001b[39mbackward(retain_graph\u001b[38;5;241m=\u001b[39m\u001b[38;5;28;01mTrue\u001b[39;00m)\n",
      "\u001b[0;31mNameError\u001b[0m: name 'opt' is not defined"
     ]
    }
   ],
   "source": [
    "criterion = nn.CrossEntropyLoss()\n",
    "optimizer = torch.optim.Adam(model.parameters(), lr=0.001)\n",
    "\n",
    "import time\n",
    "start_time = time.time()\n",
    "\n",
    "epochs = 5\n",
    "\n",
    "for i in range(epochs):\n",
    "    model.train\n",
    "    \n",
    "    for xb, yb in train_loader:\n",
    "        results = model(xb)\n",
    "\n",
    "        losses = [weighting * criterion(res, yb)\n",
    "                        for weighting, res in zip(model.exit_loss_weights,results)]\n",
    "\n",
    "        optimizer.zero_grad()\n",
    "        for loss in losses[:-1]:\n",
    "            loss.backward(retain_graph=True)\n",
    "        losses[-1].backward()\n",
    "\n",
    "        optimizer.step()   \n",
    "    \n",
    "    model.eval()\n",
    "    with torch.no_grad():\n",
    "        valid_losses = np.sum(np.array(\n",
    "            [[criterion(exit, yb) for exit in model(xb)]\n",
    "                for xb, yb in test_loader]), axis=0)\n",
    "\n",
    "    val_loss_avg = valid_losses / len(valid_dl)\n",
    "    print(\"v loss:\", val_loss_avg)"
   ]
  }
 ],
 "metadata": {
  "kernelspec": {
   "display_name": "Python 3 (ipykernel)",
   "language": "python",
   "name": "python3"
  },
  "language_info": {
   "codemirror_mode": {
    "name": "ipython",
    "version": 3
   },
   "file_extension": ".py",
   "mimetype": "text/x-python",
   "name": "python",
   "nbconvert_exporter": "python",
   "pygments_lexer": "ipython3",
   "version": "3.10.9"
  }
 },
 "nbformat": 4,
 "nbformat_minor": 5
}
