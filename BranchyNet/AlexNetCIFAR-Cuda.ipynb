{
 "cells": [
  {
   "cell_type": "code",
   "execution_count": 1,
   "id": "26d6aa1b",
   "metadata": {},
   "outputs": [
    {
     "name": "stdout",
     "output_type": "stream",
     "text": [
      "cuda\n"
     ]
    }
   ],
   "source": [
    "from models.AlexNet import AlexNetWithExistsCIFAR10\n",
    "from utils.functions import *\n",
    "\n",
    "import torch\n",
    "import torch.nn as nn\n",
    "import torch.optim as optim\n",
    "from torch.utils.data import DataLoader, Dataset, TensorDataset\n",
    "from torchvision import datasets, transforms\n",
    "import torchvision\n",
    "import matplotlib\n",
    "\n",
    "import os\n",
    "import numpy as np\n",
    "from datetime import datetime as dt\n",
    "\n",
    "device = torch.device('cuda' if torch.cuda.is_available() else 'cpu')\n",
    "print(device)"
   ]
  },
  {
   "cell_type": "code",
   "execution_count": 8,
   "id": "cd82db44",
   "metadata": {},
   "outputs": [
    {
     "name": "stdout",
     "output_type": "stream",
     "text": [
      "Files already downloaded and verified\n",
      "Files already downloaded and verified\n"
     ]
    }
   ],
   "source": [
    "transform = transforms.ToTensor()\n",
    "\n",
    "batch_size = 600\n",
    "\n",
    "train_data   = datasets.CIFAR10(root='../data', train=True, download=True, transform=transform)\n",
    "test_data    = datasets.CIFAR10(root='../data', train=False, download=True, transform=transform)\n",
    "train_loader = DataLoader(train_data, batch_size=batch_size, shuffle=True)\n",
    "test_loader  = DataLoader(test_data, batch_size=batch_size, shuffle=False)"
   ]
  },
  {
   "cell_type": "code",
   "execution_count": 3,
   "id": "3394342f",
   "metadata": {},
   "outputs": [],
   "source": [
    "model = AlexNetWithExistsCIFAR10(exit_loss_weights=[20, 5, 1]).to(device)"
   ]
  },
  {
   "cell_type": "code",
   "execution_count": 7,
   "id": "e70b19db",
   "metadata": {},
   "outputs": [
    {
     "name": "stdout",
     "output_type": "stream",
     "text": [
      "\n",
      "Loss: ['0.68576276', '0.57869208', '0.64433050'] - Accuracy Test: ['77.93', '81.23', '78.67']\n",
      "\n"
     ]
    }
   ],
   "source": [
    "show_exits_stats(model, nn.CrossEntropyLoss(), test_loader, device)"
   ]
  },
  {
   "cell_type": "code",
   "execution_count": 9,
   "id": "21bb13af",
   "metadata": {},
   "outputs": [
    {
     "name": "stdout",
     "output_type": "stream",
     "text": [
      "\n",
      "Loss: ['0.68576276', '0.57869208', '0.68947297'] - Accuracy Test: ['77.93', '81.23', '78.78']\n",
      "\n"
     ]
    }
   ],
   "source": [
    "show_exits_stats(model, nn.CrossEntropyLoss(), test_loader, device)"
   ]
  },
  {
   "cell_type": "code",
   "execution_count": 4,
   "id": "4dc2ecc8",
   "metadata": {},
   "outputs": [
    {
     "name": "stdout",
     "output_type": "stream",
     "text": [
      "Epoch:  0 Batch:   1 Loss: 2.5767 Accuracy Train: 9.333%\n",
      "Epoch:  0 Batch:  11 Loss: 1.6114 Accuracy Train: 30.227%\n",
      "Epoch:  0 Batch:  21 Loss: 1.4667 Accuracy Train: 36.881%\n",
      "Epoch:  0 Batch:  31 Loss: 1.3308 Accuracy Train: 40.538%\n",
      "Epoch:  0 Batch:  41 Loss: 1.2237 Accuracy Train: 43.740%\n",
      "Epoch:  0 Batch:  51 Loss: 1.1836 Accuracy Train: 46.062%\n",
      "Epoch:  0 Batch:  61 Loss: 1.1405 Accuracy Train: 48.265%\n",
      "Epoch:  0 Batch:  71 Loss: 1.0831 Accuracy Train: 49.944%\n",
      "Epoch:  0 Batch:  81 Loss: 1.0131 Accuracy Train: 51.364%\n",
      "\n",
      "Loss: ['1.05136383', '2.71636939', '2.31740928'] - Accuracy Test: ['63.76', '10.84', '9.77']\n",
      "\n",
      "Epoch:  1 Batch:   1 Loss: 1.0266 Accuracy Train: 64.667%\n",
      "Epoch:  1 Batch:  11 Loss: 0.9679 Accuracy Train: 65.455%\n",
      "Epoch:  1 Batch:  21 Loss: 0.9091 Accuracy Train: 66.032%\n",
      "Epoch:  1 Batch:  31 Loss: 0.9891 Accuracy Train: 66.333%\n",
      "Epoch:  1 Batch:  41 Loss: 0.9258 Accuracy Train: 66.817%\n",
      "Epoch:  1 Batch:  51 Loss: 0.9496 Accuracy Train: 66.944%\n",
      "Epoch:  1 Batch:  61 Loss: 0.9175 Accuracy Train: 67.202%\n",
      "Epoch:  1 Batch:  71 Loss: 0.8866 Accuracy Train: 67.660%\n",
      "Epoch:  1 Batch:  81 Loss: 0.8956 Accuracy Train: 67.934%\n",
      "\n",
      "Loss: ['0.88477343', '2.73528838', '2.33128643'] - Accuracy Test: ['69.85', '11.09', '9.93']\n",
      "\n",
      "Epoch:  2 Batch:   1 Loss: 0.8080 Accuracy Train: 74.167%\n",
      "Epoch:  2 Batch:  11 Loss: 0.7827 Accuracy Train: 73.939%\n",
      "Epoch:  2 Batch:  21 Loss: 0.8011 Accuracy Train: 73.881%\n",
      "Epoch:  2 Batch:  31 Loss: 0.7864 Accuracy Train: 73.624%\n",
      "Epoch:  2 Batch:  41 Loss: 0.7079 Accuracy Train: 73.573%\n",
      "Epoch:  2 Batch:  51 Loss: 0.7192 Accuracy Train: 73.592%\n",
      "Epoch:  2 Batch:  61 Loss: 0.6908 Accuracy Train: 73.609%\n",
      "Epoch:  2 Batch:  71 Loss: 0.7669 Accuracy Train: 73.620%\n",
      "Epoch:  2 Batch:  81 Loss: 0.7717 Accuracy Train: 73.634%\n",
      "\n",
      "Loss: ['0.81104058', '2.72936893', '2.32321572'] - Accuracy Test: ['71.75', '11.21', '10.07']\n",
      "\n",
      "Epoch:  3 Batch:   1 Loss: 0.6941 Accuracy Train: 77.000%\n",
      "Epoch:  3 Batch:  11 Loss: 0.7003 Accuracy Train: 76.561%\n",
      "Epoch:  3 Batch:  21 Loss: 0.7031 Accuracy Train: 76.341%\n",
      "Epoch:  3 Batch:  31 Loss: 0.6393 Accuracy Train: 76.946%\n",
      "Epoch:  3 Batch:  41 Loss: 0.6435 Accuracy Train: 77.215%\n",
      "Epoch:  3 Batch:  51 Loss: 0.5852 Accuracy Train: 77.373%\n",
      "Epoch:  3 Batch:  61 Loss: 0.6572 Accuracy Train: 77.331%\n",
      "Epoch:  3 Batch:  71 Loss: 0.7030 Accuracy Train: 77.570%\n",
      "Epoch:  3 Batch:  81 Loss: 0.6349 Accuracy Train: 77.630%\n",
      "\n",
      "Loss: ['0.72444046', '2.73370337', '2.31727839'] - Accuracy Test: ['74.80', '10.83', '10.29']\n",
      "\n",
      "Epoch:  4 Batch:   1 Loss: 0.5486 Accuracy Train: 82.167%\n",
      "Epoch:  4 Batch:  11 Loss: 0.5885 Accuracy Train: 80.591%\n",
      "Epoch:  4 Batch:  21 Loss: 0.5663 Accuracy Train: 80.802%\n",
      "Epoch:  4 Batch:  31 Loss: 0.5791 Accuracy Train: 80.968%\n",
      "Epoch:  4 Batch:  41 Loss: 0.5831 Accuracy Train: 81.061%\n",
      "Epoch:  4 Batch:  51 Loss: 0.6155 Accuracy Train: 81.209%\n",
      "Epoch:  4 Batch:  61 Loss: 0.4984 Accuracy Train: 81.186%\n",
      "Epoch:  4 Batch:  71 Loss: 0.5280 Accuracy Train: 81.061%\n",
      "Epoch:  4 Batch:  81 Loss: 0.5986 Accuracy Train: 81.053%\n",
      "\n",
      "Loss: ['0.70758665', '2.72837257', '2.33009672'] - Accuracy Test: ['76.24', '10.97', '10.12']\n",
      "\n",
      "\n",
      "Duration: 54 seconds\n"
     ]
    }
   ],
   "source": [
    "train_exit(model, 0, train_loader=train_loader, test_loader=test_loader, device=device)"
   ]
  },
  {
   "cell_type": "code",
   "execution_count": 5,
   "id": "77fbde45",
   "metadata": {},
   "outputs": [
    {
     "name": "stdout",
     "output_type": "stream",
     "text": [
      "Epoch:  0 Batch:   1 Loss: ['9.5630', '13.1634', '2.3314'] Accuracy Train: ['85.5%', '11.7%', '10.5%']%\n",
      "Epoch:  0 Batch:  11 Loss: ['11.7161', '8.6234', '1.8992'] Accuracy Train: ['75.8%', '29.0%', '19.8%']%\n",
      "Epoch:  0 Batch:  21 Loss: ['10.5822', '7.1282', '1.6165'] Accuracy Train: ['78.5%', '35.5%', '25.2%']%\n",
      "Epoch:  0 Batch:  31 Loss: ['9.3214', '6.0946', '1.4462'] Accuracy Train: ['79.8%', '40.3%', '30.0%']%\n",
      "Epoch:  0 Batch:  41 Loss: ['9.9030', '6.1653', '1.4399'] Accuracy Train: ['80.7%', '44.0%', '33.6%']%\n",
      "Epoch:  0 Batch:  51 Loss: ['10.9287', '5.7076', '1.3154'] Accuracy Train: ['81.2%', '46.9%', '36.4%']%\n",
      "Epoch:  0 Batch:  61 Loss: ['11.0043', '5.5474', '1.3173'] Accuracy Train: ['81.5%', '49.3%', '38.8%']%\n",
      "Epoch:  0 Batch:  71 Loss: ['9.7538', '4.8337', '1.2405'] Accuracy Train: ['81.7%', '51.1%', '41.0%']%\n",
      "Epoch:  0 Batch:  81 Loss: ['9.5439', '4.5961', '1.0941'] Accuracy Train: ['81.9%', '52.8%', '42.8%']%\n",
      "\n",
      "Loss: ['0.63707197', '0.96091324', '1.18306458'] - Accuracy Test: ['77.70', '66.71', '58.16']\n",
      "\n",
      "Epoch:  1 Batch:   1 Loss: ['8.1599', '4.3813', '1.1017'] Accuracy Train: ['86.7%', '69.3%', '59.5%']%\n",
      "Epoch:  1 Batch:  11 Loss: ['9.4320', '4.6399', '1.0983'] Accuracy Train: ['86.1%', '68.9%', '60.2%']%\n",
      "Epoch:  1 Batch:  21 Loss: ['9.2565', '4.5299', '1.1161'] Accuracy Train: ['85.9%', '69.2%', '61.0%']%\n",
      "Epoch:  1 Batch:  31 Loss: ['8.2540', '3.6757', '0.9427'] Accuracy Train: ['85.9%', '70.0%', '61.8%']%\n",
      "Epoch:  1 Batch:  41 Loss: ['9.9452', '3.8712', '0.9780'] Accuracy Train: ['85.9%', '70.8%', '62.6%']%\n",
      "Epoch:  1 Batch:  51 Loss: ['7.6123', '3.6570', '0.9159'] Accuracy Train: ['85.9%', '71.6%', '63.5%']%\n",
      "Epoch:  1 Batch:  61 Loss: ['9.2327', '4.0002', '0.9515'] Accuracy Train: ['85.8%', '71.8%', '64.0%']%\n",
      "Epoch:  1 Batch:  71 Loss: ['8.4838', '3.5840', '0.9101'] Accuracy Train: ['85.7%', '72.2%', '64.6%']%\n",
      "Epoch:  1 Batch:  81 Loss: ['8.5745', '3.4334', '0.9041'] Accuracy Train: ['85.6%', '72.7%', '65.3%']%\n",
      "\n",
      "Loss: ['0.64170301', '0.73997414', '0.97726011'] - Accuracy Test: ['78.11', '75.87', '68.68']\n",
      "\n",
      "Epoch:  2 Batch:   1 Loss: ['7.9094', '3.1288', '0.8854'] Accuracy Train: ['87.3%', '77.8%', '69.0%']%\n",
      "Epoch:  2 Batch:  11 Loss: ['6.2910', '3.0022', '0.8569'] Accuracy Train: ['89.0%', '77.7%', '71.0%']%\n",
      "Epoch:  2 Batch:  21 Loss: ['7.7110', '3.1816', '0.7754'] Accuracy Train: ['88.7%', '77.3%', '70.7%']%\n",
      "Epoch:  2 Batch:  31 Loss: ['7.7130', '3.3112', '0.8085'] Accuracy Train: ['88.7%', '77.6%', '71.1%']%\n",
      "Epoch:  2 Batch:  41 Loss: ['7.7503', '3.3244', '0.8410'] Accuracy Train: ['88.6%', '77.9%', '71.6%']%\n",
      "Epoch:  2 Batch:  51 Loss: ['7.7758', '2.7876', '0.7560'] Accuracy Train: ['88.3%', '78.2%', '71.9%']%\n",
      "Epoch:  2 Batch:  61 Loss: ['8.2438', '3.0828', '0.7658'] Accuracy Train: ['88.1%', '78.4%', '72.3%']%\n",
      "Epoch:  2 Batch:  71 Loss: ['7.9198', '3.0574', '0.7577'] Accuracy Train: ['88.1%', '78.7%', '72.8%']%\n",
      "Epoch:  2 Batch:  81 Loss: ['7.7845', '2.8755', '0.7164'] Accuracy Train: ['88.1%', '78.9%', '73.1%']%\n",
      "\n",
      "Loss: ['0.64966309', '0.63949585', '0.79448760'] - Accuracy Test: ['78.55', '78.76', '75.73']\n",
      "\n",
      "Epoch:  3 Batch:   1 Loss: ['5.7814', '2.2723', '0.5863'] Accuracy Train: ['90.5%', '83.7%', '80.5%']%\n",
      "Epoch:  3 Batch:  11 Loss: ['5.3639', '2.3609', '0.6214'] Accuracy Train: ['90.5%', '82.7%', '77.0%']%\n",
      "Epoch:  3 Batch:  21 Loss: ['6.4923', '2.6446', '0.6960'] Accuracy Train: ['90.3%', '82.5%', '77.0%']%\n",
      "Epoch:  3 Batch:  31 Loss: ['6.9489', '2.5850', '0.6500'] Accuracy Train: ['90.2%', '82.8%', '77.4%']%\n",
      "Epoch:  3 Batch:  41 Loss: ['6.3150', '2.2271', '0.6626'] Accuracy Train: ['90.0%', '83.0%', '77.3%']%\n",
      "Epoch:  3 Batch:  51 Loss: ['7.5062', '2.8078', '0.6896'] Accuracy Train: ['89.9%', '82.9%', '77.5%']%\n",
      "Epoch:  3 Batch:  61 Loss: ['6.6414', '2.2194', '0.5906'] Accuracy Train: ['89.8%', '82.8%', '77.6%']%\n",
      "Epoch:  3 Batch:  71 Loss: ['7.3291', '2.3822', '0.6058'] Accuracy Train: ['89.7%', '82.9%', '77.8%']%\n",
      "Epoch:  3 Batch:  81 Loss: ['5.8832', '2.4557', '0.5838'] Accuracy Train: ['89.7%', '82.9%', '77.9%']%\n",
      "\n",
      "Loss: ['0.67425072', '0.65997696', '0.74095833'] - Accuracy Test: ['77.74', '78.46', '77.25']\n",
      "\n",
      "Epoch:  4 Batch:   1 Loss: ['6.0450', '2.2684', '0.5459'] Accuracy Train: ['89.5%', '85.2%', '81.5%']%\n",
      "Epoch:  4 Batch:  11 Loss: ['5.0631', '2.0640', '0.5275'] Accuracy Train: ['90.0%', '84.5%', '80.7%']%\n",
      "Epoch:  4 Batch:  21 Loss: ['5.8013', '2.3610', '0.6324'] Accuracy Train: ['90.8%', '85.0%', '80.0%']%\n",
      "Epoch:  4 Batch:  31 Loss: ['5.6991', '2.1817', '0.6337'] Accuracy Train: ['91.3%', '85.1%', '80.2%']%\n",
      "Epoch:  4 Batch:  41 Loss: ['5.1302', '2.0200', '0.5354'] Accuracy Train: ['91.4%', '85.3%', '80.4%']%\n",
      "Epoch:  4 Batch:  51 Loss: ['5.2300', '1.8530', '0.5097'] Accuracy Train: ['91.4%', '85.3%', '80.5%']%\n",
      "Epoch:  4 Batch:  61 Loss: ['4.8365', '1.9641', '0.5005'] Accuracy Train: ['91.4%', '85.4%', '80.7%']%\n",
      "Epoch:  4 Batch:  71 Loss: ['5.4168', '1.9886', '0.5132'] Accuracy Train: ['91.3%', '85.5%', '80.9%']%\n",
      "Epoch:  4 Batch:  81 Loss: ['6.4909', '2.2037', '0.5539'] Accuracy Train: ['91.1%', '85.4%', '80.8%']%\n",
      "\n",
      "Loss: ['0.68576276', '0.57869208', '0.66659933'] - Accuracy Test: ['77.93', '81.23', '78.83']\n",
      "\n",
      "\n",
      "Duration: 152 seconds\n"
     ]
    }
   ],
   "source": [
    "train_model(model, train_loader=train_loader, test_loader=test_loader, device=device)"
   ]
  }
 ],
 "metadata": {
  "kernelspec": {
   "display_name": "Python 3 (ipykernel)",
   "language": "python",
   "name": "python3"
  },
  "language_info": {
   "codemirror_mode": {
    "name": "ipython",
    "version": 3
   },
   "file_extension": ".py",
   "mimetype": "text/x-python",
   "name": "python",
   "nbconvert_exporter": "python",
   "pygments_lexer": "ipython3",
   "version": "3.10.9"
  }
 },
 "nbformat": 4,
 "nbformat_minor": 5
}
