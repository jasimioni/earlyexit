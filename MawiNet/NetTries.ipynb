{
 "cells": [
  {
   "cell_type": "code",
   "execution_count": 1,
   "id": "e27b70e1",
   "metadata": {},
   "outputs": [],
   "source": [
    "import torch\n",
    "import torch.nn as nn\n",
    "import torch.optim as optim\n",
    "from torch.utils.data import DataLoader, Dataset, TensorDataset\n",
    "from torchinfo import summary\n",
    "import numpy as np\n",
    "import pandas as pd\n",
    "\n",
    "from datetime import datetime as dt\n",
    "import os\n",
    "import time\n",
    "import sys\n",
    "sys.path.append('..')\n",
    "\n",
    "from utils.functions import *\n",
    "from models.TryNets import *\n",
    "\n",
    "# device = torch.device('cuda' if torch.cuda.is_available() else 'cpu')\n",
    "# print(device)\n",
    "device = 'cpu'"
   ]
  },
  {
   "cell_type": "code",
   "execution_count": 2,
   "id": "e74ba83e",
   "metadata": {},
   "outputs": [
    {
     "name": "stdout",
     "output_type": "stream",
     "text": [
      "torch.Size([938330, 48])\n",
      "torch.Size([938330])\n",
      "torch.Size([905578, 48])\n",
      "torch.Size([905578])\n"
     ]
    }
   ],
   "source": [
    "train_data   = CustomMawiDataset(year='2019', month='01', as_matrix=False)\n",
    "test_data    = CustomMawiDataset(year='2019', month='02', as_matrix=False)"
   ]
  },
  {
   "cell_type": "code",
   "execution_count": 31,
   "id": "f896a003",
   "metadata": {},
   "outputs": [
    {
     "data": {
      "text/plain": [
       "=================================================================\n",
       "Layer (type:depth-idx)                   Param #\n",
       "=================================================================\n",
       "MawiNet                                  --\n",
       "├─Sequential: 1-1                        --\n",
       "│    └─Linear: 2-1                       200,704\n",
       "│    └─ReLU: 2-2                         --\n",
       "├─Sequential: 1-2                        --\n",
       "│    └─Sequential: 2-3                   --\n",
       "│    │    └─Conv2d: 3-1                  960\n",
       "│    │    └─BatchNorm2d: 3-2             192\n",
       "│    │    └─ReLU: 3-3                    --\n",
       "│    │    └─MaxPool2d: 3-4               --\n",
       "│    └─Sequential: 2-4                   --\n",
       "│    │    └─Conv2d: 3-5                  221,440\n",
       "│    │    └─BatchNorm2d: 3-6             512\n",
       "│    │    └─ReLU: 3-7                    --\n",
       "│    │    └─MaxPool2d: 3-8               --\n",
       "│    └─Sequential: 2-5                   --\n",
       "│    │    └─Conv2d: 3-9                  1,204,320\n",
       "│    │    └─BatchNorm2d: 3-10            192\n",
       "│    │    └─ReLU: 3-11                   --\n",
       "│    │    └─MaxPool2d: 3-12              --\n",
       "├─Sequential: 1-3                        --\n",
       "│    └─Flatten: 2-6                      --\n",
       "│    └─Linear: 2-7                       19,202\n",
       "=================================================================\n",
       "Total params: 1,647,522\n",
       "Trainable params: 1,647,522\n",
       "Non-trainable params: 0\n",
       "================================================================="
      ]
     },
     "execution_count": 31,
     "metadata": {},
     "output_type": "execute_result"
    }
   ],
   "source": [
    "class MawiNet(nn.Module):\n",
    "    def __init__(self, num_classes=2):\n",
    "        super().__init__()\n",
    "        \n",
    "        self.expand_to = 64\n",
    "\n",
    "        self.adaptation = nn.Sequential(\n",
    "            nn.Linear(48, self.expand_to ** 2),\n",
    "            nn.ReLU(),)\n",
    "        \n",
    "        self.backbone = nn.Sequential(\n",
    "            nn.Sequential(\n",
    "                nn.Conv2d(1, 96, kernel_size=3, stride=1, padding=0),\n",
    "                nn.BatchNorm2d(96),\n",
    "                nn.ReLU(),\n",
    "                nn.MaxPool2d(kernel_size=3, stride=1)),\n",
    "                       \n",
    "            nn.Sequential(\n",
    "                nn.Conv2d(96, 256, kernel_size=3, stride=1, padding=0),\n",
    "                nn.BatchNorm2d(256),\n",
    "                nn.ReLU(),\n",
    "                nn.MaxPool2d(kernel_size=3, stride=1)),   \n",
    "            \n",
    "            nn.Sequential(\n",
    "                nn.Conv2d(256, 96, kernel_size=7, stride=2, padding=0),\n",
    "                nn.BatchNorm2d(96),\n",
    "                nn.ReLU(),\n",
    "                nn.MaxPool2d(kernel_size=7, stride=2)),            \n",
    "        )\n",
    "        \n",
    "        self.exit = nn.Sequential(\n",
    "            nn.Flatten(),\n",
    "            nn.Linear(9600, num_classes),\n",
    "        )\n",
    "    \n",
    "    def unflat(self, x):\n",
    "        return x.view(-1, 1, self.expand_to, self.expand_to)\n",
    "    \n",
    "    def forward(self, x):\n",
    "        x = self.unflat(self.adaptation(x))\n",
    "        return self.exit(self.backbone(x))\n",
    "    \n",
    "model = MawiNet().to(device)    \n",
    "# summary(model, (1, 48))\n",
    "summary(model)"
   ]
  },
  {
   "cell_type": "code",
   "execution_count": 32,
   "id": "5cfc0e3e",
   "metadata": {},
   "outputs": [
    {
     "name": "stdout",
     "output_type": "stream",
     "text": [
      "torch.Size([1, 48])\n",
      "torch.Size([1, 4096])\n",
      "torch.Size([1, 1, 64, 64])\n",
      "torch.Size([1, 96, 10, 10])\n",
      "9600\n",
      "torch.Size([1, 2])\n"
     ]
    }
   ],
   "source": [
    "x = torch.randn(1, 48).to(device)\n",
    "print(x.shape)\n",
    "\n",
    "x = model.adaptation(x)\n",
    "print(x.shape)\n",
    "\n",
    "x = model.unflat(x)\n",
    "print(x.shape)\n",
    "\n",
    "x = model.backbone(x)\n",
    "print(x.shape)\n",
    "\n",
    "print(x.shape[-1] * x.shape[-2] * x.shape[-3])\n",
    "\n",
    "x = model.exit(x)\n",
    "print(x.shape)\n",
    "\n",
    "x = torch.randn(1, 48).to(device)\n",
    "x = model(x)"
   ]
  },
  {
   "cell_type": "code",
   "execution_count": null,
   "id": "68e1a697",
   "metadata": {},
   "outputs": [],
   "source": [
    "epochs = 5\n",
    "batch_size = 300\n",
    "\n",
    "train_loader = DataLoader(train_data, batch_size=batch_size, shuffle=True)\n",
    "test_loader  = DataLoader(test_data, batch_size=batch_size, shuffle=False)"
   ]
  },
  {
   "cell_type": "code",
   "execution_count": null,
   "id": "ac0b5a8f",
   "metadata": {},
   "outputs": [],
   "source": [
    "lr=0.01\n",
    "criterion = nn.CrossEntropyLoss()\n",
    "optimizer = torch.optim.Adam(model.parameters(), lr=lr)\n",
    "\n",
    "import time\n",
    "start_time = time.time()\n",
    "\n",
    "seq = 0\n",
    "for i in range(epochs):\n",
    "    trn_cor = 0\n",
    "    trn_cnt = 0\n",
    "    tst_cor = 0\n",
    "    tst_cnt = 0\n",
    "        \n",
    "    for b, (X_train, y_train) in enumerate(train_loader):\n",
    "        X_train = X_train.to(device)\n",
    "        y_train = y_train.to(device)\n",
    "        b+=1\n",
    "            \n",
    "        y_pred = model(X_train)\n",
    "\n",
    "        # print(y_pred)\n",
    "        # int(y_train)\n",
    "\n",
    "        loss = criterion(y_pred, y_train)\n",
    "        optimizer.zero_grad()\n",
    "        loss.backward()\n",
    "        optimizer.step()\n",
    "            \n",
    "        predicted = torch.max(y_pred.data, 1)[1]\n",
    "        batch_cor = (predicted == y_train).sum()\n",
    "        trn_cor += batch_cor\n",
    "        trn_cnt += len(predicted)\n",
    "\n",
    "        cnf = torch.mean(torch.max(nn.functional.softmax(y_pred, dim=-1), 1)[0]).item()\n",
    "            \n",
    "        if (b-1)%10 == 0:\n",
    "            print(f'Epoch: {i:2} Batch: {b:3} Loss: {loss.item():4.4f} Accuracy Train: {trn_cor.item()*100/trn_cnt:2.3f}%')\n",
    "            \n",
    "        seq += 1\n",
    "\n",
    "print(f'\\nDuration: {time.time() - start_time:.0f} seconds')"
   ]
  }
 ],
 "metadata": {
  "kernelspec": {
   "display_name": "Python 3 (ipykernel)",
   "language": "python",
   "name": "python3"
  },
  "language_info": {
   "codemirror_mode": {
    "name": "ipython",
    "version": 3
   },
   "file_extension": ".py",
   "mimetype": "text/x-python",
   "name": "python",
   "nbconvert_exporter": "python",
   "pygments_lexer": "ipython3",
   "version": "3.10.9"
  }
 },
 "nbformat": 4,
 "nbformat_minor": 5
}
